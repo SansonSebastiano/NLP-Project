{
 "cells": [
  {
   "cell_type": "code",
   "execution_count": 2,
   "metadata": {},
   "outputs": [],
   "source": [
    "import re\n",
    "import json as js\n",
    "import os\n",
    "import demoji"
   ]
  },
  {
   "cell_type": "code",
   "execution_count": 6,
   "metadata": {},
   "outputs": [],
   "source": [
    "# 6/6/24, 9:17 PM - +39 370 703 0730: la gpu\n",
    "def get_datehour(line):\n",
    "    # return date and hour object\n",
    "    return line.split()[0][:-1].replace(\"/\", \"-\"), line.split()[1][:-1]\n"
   ]
  },
  {
   "cell_type": "code",
   "execution_count": 7,
   "metadata": {},
   "outputs": [],
   "source": [
    "def check_valid(line):\n",
    "    # Regex for check if the line follow the format: 6/6/24, 9:17 PM - +39 370 703 0730: la gpu\n",
    "    return re.match(r\"\\d+/\\d+/\\d+, \\d+:\\d+\\s[AP]M - \\+\\d+ \\d+ \\d+: .+\", line) is not None"
   ]
  },
  {
   "cell_type": "code",
   "execution_count": 3,
   "metadata": {},
   "outputs": [
    {
     "ename": "FileNotFoundError",
     "evalue": "[Errno 2] No such file or directory: './exported_chat/sample_whatsapp.txt'",
     "output_type": "error",
     "traceback": [
      "\u001b[1;31m---------------------------------------------------------------------------\u001b[0m",
      "\u001b[1;31mFileNotFoundError\u001b[0m                         Traceback (most recent call last)",
      "Cell \u001b[1;32mIn[3], line 3\u001b[0m\n\u001b[0;32m      1\u001b[0m file_name \u001b[38;5;241m=\u001b[39m \u001b[38;5;124m\"\u001b[39m\u001b[38;5;124msample_whatsapp\u001b[39m\u001b[38;5;124m\"\u001b[39m\n\u001b[0;32m      2\u001b[0m current_date \u001b[38;5;241m=\u001b[39m \u001b[38;5;124m\"\u001b[39m\u001b[38;5;124m\"\u001b[39m\n\u001b[1;32m----> 3\u001b[0m \u001b[38;5;28;01mwith\u001b[39;00m \u001b[38;5;28;43mopen\u001b[39;49m\u001b[43m(\u001b[49m\u001b[38;5;124;43m\"\u001b[39;49m\u001b[38;5;124;43m./exported_chat/\u001b[39;49m\u001b[38;5;124;43m\"\u001b[39;49m\u001b[43m \u001b[49m\u001b[38;5;241;43m+\u001b[39;49m\u001b[43m \u001b[49m\u001b[43mfile_name\u001b[49m\u001b[43m \u001b[49m\u001b[38;5;241;43m+\u001b[39;49m\u001b[43m \u001b[49m\u001b[38;5;124;43m\"\u001b[39;49m\u001b[38;5;124;43m.txt\u001b[39;49m\u001b[38;5;124;43m\"\u001b[39;49m\u001b[43m,\u001b[49m\u001b[43m \u001b[49m\u001b[38;5;124;43m\"\u001b[39;49m\u001b[38;5;124;43mr\u001b[39;49m\u001b[38;5;124;43m\"\u001b[39;49m\u001b[43m,\u001b[49m\u001b[43m \u001b[49m\u001b[43mencoding\u001b[49m\u001b[38;5;241;43m=\u001b[39;49m\u001b[38;5;124;43m\"\u001b[39;49m\u001b[38;5;124;43mutf-8\u001b[39;49m\u001b[38;5;124;43m\"\u001b[39;49m\u001b[43m)\u001b[49m \u001b[38;5;28;01mas\u001b[39;00m file:\n\u001b[0;32m      4\u001b[0m     data \u001b[38;5;241m=\u001b[39m file\u001b[38;5;241m.\u001b[39mreadlines()\n\u001b[0;32m      5\u001b[0m     \u001b[38;5;28;01mfor\u001b[39;00m line \u001b[38;5;129;01min\u001b[39;00m data:\n\u001b[0;32m      6\u001b[0m         \u001b[38;5;66;03m# Check if the line is valid\u001b[39;00m\n",
      "File \u001b[1;32m~\\AppData\\Roaming\\Python\\Python311\\site-packages\\IPython\\core\\interactiveshell.py:324\u001b[0m, in \u001b[0;36m_modified_open\u001b[1;34m(file, *args, **kwargs)\u001b[0m\n\u001b[0;32m    317\u001b[0m \u001b[38;5;28;01mif\u001b[39;00m file \u001b[38;5;129;01min\u001b[39;00m {\u001b[38;5;241m0\u001b[39m, \u001b[38;5;241m1\u001b[39m, \u001b[38;5;241m2\u001b[39m}:\n\u001b[0;32m    318\u001b[0m     \u001b[38;5;28;01mraise\u001b[39;00m \u001b[38;5;167;01mValueError\u001b[39;00m(\n\u001b[0;32m    319\u001b[0m         \u001b[38;5;124mf\u001b[39m\u001b[38;5;124m\"\u001b[39m\u001b[38;5;124mIPython won\u001b[39m\u001b[38;5;124m'\u001b[39m\u001b[38;5;124mt let you open fd=\u001b[39m\u001b[38;5;132;01m{\u001b[39;00mfile\u001b[38;5;132;01m}\u001b[39;00m\u001b[38;5;124m by default \u001b[39m\u001b[38;5;124m\"\u001b[39m\n\u001b[0;32m    320\u001b[0m         \u001b[38;5;124m\"\u001b[39m\u001b[38;5;124mas it is likely to crash IPython. If you know what you are doing, \u001b[39m\u001b[38;5;124m\"\u001b[39m\n\u001b[0;32m    321\u001b[0m         \u001b[38;5;124m\"\u001b[39m\u001b[38;5;124myou can use builtins\u001b[39m\u001b[38;5;124m'\u001b[39m\u001b[38;5;124m open.\u001b[39m\u001b[38;5;124m\"\u001b[39m\n\u001b[0;32m    322\u001b[0m     )\n\u001b[1;32m--> 324\u001b[0m \u001b[38;5;28;01mreturn\u001b[39;00m \u001b[43mio_open\u001b[49m\u001b[43m(\u001b[49m\u001b[43mfile\u001b[49m\u001b[43m,\u001b[49m\u001b[43m \u001b[49m\u001b[38;5;241;43m*\u001b[39;49m\u001b[43margs\u001b[49m\u001b[43m,\u001b[49m\u001b[43m \u001b[49m\u001b[38;5;241;43m*\u001b[39;49m\u001b[38;5;241;43m*\u001b[39;49m\u001b[43mkwargs\u001b[49m\u001b[43m)\u001b[49m\n",
      "\u001b[1;31mFileNotFoundError\u001b[0m: [Errno 2] No such file or directory: './exported_chat/sample_whatsapp.txt'"
     ]
    }
   ],
   "source": [
    "file_name = \"sample_whatsapp\"\n",
    "current_date = \"\"\n",
    "with open(\"./exported_chat/\" + file_name + \".txt\", \"r\", encoding=\"utf-8\") as file:\n",
    "    data = file.readlines()\n",
    "    for line in data:\n",
    "        # Check if the line is valid\n",
    "        if not check_valid(line):\n",
    "            continue\n",
    "        date, hour = get_datehour(line)\n",
    "        if current_date == \"\":\n",
    "            data = date\n",
    "        if current_date != date:\n",
    "            past_date = date\n",
    "        # Create or append to the file\n",
    "        with open(file_name + \"_\" + past_date + \".txt\", \"a\", encoding=\"utf-8\") as new_file:\n",
    "            new_file.write(line)\n",
    "# Output\n",
    "\n"
   ]
  },
  {
   "cell_type": "code",
   "execution_count": 4,
   "metadata": {},
   "outputs": [
    {
     "ename": "FileNotFoundError",
     "evalue": "[Errno 2] No such file or directory: 'sample_whatsapp.txt'",
     "output_type": "error",
     "traceback": [
      "\u001b[1;31m---------------------------------------------------------------------------\u001b[0m",
      "\u001b[1;31mFileNotFoundError\u001b[0m                         Traceback (most recent call last)",
      "Cell \u001b[1;32mIn[4], line 3\u001b[0m\n\u001b[0;32m      1\u001b[0m \u001b[38;5;66;03m# Create json file\u001b[39;00m\n\u001b[1;32m----> 3\u001b[0m \u001b[38;5;28;01mwith\u001b[39;00m \u001b[38;5;28;43mopen\u001b[39;49m\u001b[43m(\u001b[49m\u001b[43mfile_name\u001b[49m\u001b[43m  \u001b[49m\u001b[38;5;241;43m+\u001b[39;49m\u001b[43m \u001b[49m\u001b[38;5;124;43m\"\u001b[39;49m\u001b[38;5;124;43m.txt\u001b[39;49m\u001b[38;5;124;43m\"\u001b[39;49m\u001b[43m,\u001b[49m\u001b[43m \u001b[49m\u001b[38;5;124;43m\"\u001b[39;49m\u001b[38;5;124;43mr\u001b[39;49m\u001b[38;5;124;43m\"\u001b[39;49m\u001b[43m,\u001b[49m\u001b[43m \u001b[49m\u001b[43mencoding\u001b[49m\u001b[38;5;241;43m=\u001b[39;49m\u001b[38;5;124;43m\"\u001b[39;49m\u001b[38;5;124;43mutf-8\u001b[39;49m\u001b[38;5;124;43m\"\u001b[39;49m\u001b[43m)\u001b[49m \u001b[38;5;28;01mas\u001b[39;00m file:\n\u001b[0;32m      4\u001b[0m     data \u001b[38;5;241m=\u001b[39m file\u001b[38;5;241m.\u001b[39mreadlines()\n\u001b[0;32m      5\u001b[0m     json \u001b[38;5;241m=\u001b[39m {}\n",
      "File \u001b[1;32m~\\AppData\\Roaming\\Python\\Python311\\site-packages\\IPython\\core\\interactiveshell.py:324\u001b[0m, in \u001b[0;36m_modified_open\u001b[1;34m(file, *args, **kwargs)\u001b[0m\n\u001b[0;32m    317\u001b[0m \u001b[38;5;28;01mif\u001b[39;00m file \u001b[38;5;129;01min\u001b[39;00m {\u001b[38;5;241m0\u001b[39m, \u001b[38;5;241m1\u001b[39m, \u001b[38;5;241m2\u001b[39m}:\n\u001b[0;32m    318\u001b[0m     \u001b[38;5;28;01mraise\u001b[39;00m \u001b[38;5;167;01mValueError\u001b[39;00m(\n\u001b[0;32m    319\u001b[0m         \u001b[38;5;124mf\u001b[39m\u001b[38;5;124m\"\u001b[39m\u001b[38;5;124mIPython won\u001b[39m\u001b[38;5;124m'\u001b[39m\u001b[38;5;124mt let you open fd=\u001b[39m\u001b[38;5;132;01m{\u001b[39;00mfile\u001b[38;5;132;01m}\u001b[39;00m\u001b[38;5;124m by default \u001b[39m\u001b[38;5;124m\"\u001b[39m\n\u001b[0;32m    320\u001b[0m         \u001b[38;5;124m\"\u001b[39m\u001b[38;5;124mas it is likely to crash IPython. If you know what you are doing, \u001b[39m\u001b[38;5;124m\"\u001b[39m\n\u001b[0;32m    321\u001b[0m         \u001b[38;5;124m\"\u001b[39m\u001b[38;5;124myou can use builtins\u001b[39m\u001b[38;5;124m'\u001b[39m\u001b[38;5;124m open.\u001b[39m\u001b[38;5;124m\"\u001b[39m\n\u001b[0;32m    322\u001b[0m     )\n\u001b[1;32m--> 324\u001b[0m \u001b[38;5;28;01mreturn\u001b[39;00m \u001b[43mio_open\u001b[49m\u001b[43m(\u001b[49m\u001b[43mfile\u001b[49m\u001b[43m,\u001b[49m\u001b[43m \u001b[49m\u001b[38;5;241;43m*\u001b[39;49m\u001b[43margs\u001b[49m\u001b[43m,\u001b[49m\u001b[43m \u001b[49m\u001b[38;5;241;43m*\u001b[39;49m\u001b[38;5;241;43m*\u001b[39;49m\u001b[43mkwargs\u001b[49m\u001b[43m)\u001b[49m\n",
      "\u001b[1;31mFileNotFoundError\u001b[0m: [Errno 2] No such file or directory: 'sample_whatsapp.txt'"
     ]
    }
   ],
   "source": [
    "\n",
    "# Create json file\n",
    "\n",
    "with open(file_name  + \".txt\", \"r\", encoding=\"utf-8\") as file:\n",
    "    data = file.readlines()\n",
    "    json = {}\n",
    "    json[\"dataset_name\"] = \"CustomDATA\"\n",
    "    json[\"dialogue_type\"] = \"Open-Domain\"\n",
    "    json[\"reference_summ\"] = \"\"\n",
    "    dialogue = []\n",
    "    speaker = []\n",
    "    for line in data:\n",
    "        json_sent = {}\n",
    "        #if not check_valid(line):\n",
    "        #    continue\n",
    "        author = line[17:].split(\":\")[0]\n",
    "        if author not in speaker:\n",
    "            speaker.append(author)\n",
    "        json_sent[\"speaker\"] = \"Speaker\" + str(speaker.index(author) + 1)\n",
    "        print(line)\n",
    "        json_sent[\"sentences\"] = [line.split(\":\")[1]]\n",
    "        json_sent[\"utterance\"] = line.split(\":\")[1]\n",
    "        json_sent[\"role\"] = author\n",
    "        dialogue.append(json_sent)\n",
    "    json[\"dialogue\"] = dialogue\n",
    "    print(dialogue)\n",
    "    with open(file_name + \"_\" + past_date + \".json\", \"w\", encoding=\"utf-8\") as new_file:\n",
    "        js.dump(json, new_file)"
   ]
  },
  {
   "cell_type": "code",
   "execution_count": 6,
   "metadata": {},
   "outputs": [],
   "source": [
    "# \\d{1,2}/\\d{1,2}/\\d{2}, \\d{1,2}:\\d{2} (?:AM|PM) - \n",
    "def clean_chat(file_name, keepEmojiText=False):\n",
    "    text=\"\"\n",
    "    regex = r\"\\d{1,2}\\/\\d{1,2}\\/\\d{2}, \\d{1,2}:\\d{2}.(?:AM|PM) - \"\n",
    "    with open(file_name, 'r', encoding=\"utf-8\") as file:\n",
    "        for line in file:\n",
    "            if re.match(regex, line):\n",
    "                line = re.sub(regex, \"\", line)\n",
    "            line = re.sub(r\"\\n\", \" \", line)\n",
    "            if not keepEmojiText:\n",
    "                line = demoji.replace(line)\n",
    "            else:\n",
    "                line = demoji.replace_with_desc(line, \"|\")\n",
    "            text += line\n",
    "    return text\n",
    "        \n",
    "# print(clean_chat(\"./exported_chat/sample_whatsapp1.txt\", True))         "
   ]
  },
  {
   "cell_type": "code",
   "execution_count": 28,
   "metadata": {},
   "outputs": [],
   "source": [
    "'''\n",
    "create a dictionary with the following structure: id, text, golden_summary\n",
    "'''\n",
    "def create_dict(whatsapp_file, id, golden_summary_path):\n",
    "    with open(golden_summary_path, 'r', encoding='utf-8') as file:\n",
    "        summary = file.read()\n",
    "\n",
    "    chat = { \n",
    "        \"text\": clean_chat(whatsapp_file),\n",
    "        \"id\": id,\n",
    "        \"golden_summary\": summary\n",
    "    }\n",
    "    return chat"
   ]
  },
  {
   "cell_type": "code",
   "execution_count": 29,
   "metadata": {},
   "outputs": [
    {
     "data": {
      "text/plain": [
       "[{'text': \"12/06/2024, 9:00 AM - Alice: Hey everyone, have you thought about our summer vacation yet?  12/06/2024, 9:02 AM - Bob: Yes! I was thinking about going to the beach. Here's a picture of the place I found. (image)  12/06/2024, 9:05 AM - Charlie: Wow, that looks amazing, Bob! I'm totally in.   12/06/2024, 9:10 AM - Dave: Looks great! I'm just concerned about the budget. How much would it cost us?  12/06/2024, 9:12 AM - Alice: I did some research. It's about $500 each for a week, including accommodation.  12/06/2024, 9:15 AM - Bob: That's not bad. Here's an audio clip of the waves from the beach. It's so relaxing! (audio)  12/06/2024, 9:18 AM - Charlie: That sounds perfect! I can already imagine us there.   12/06/2024, 9:20 AM - Dave: I'm in too. Let's book it!  12/06/2024, 9:22 AM - Alice: Awesome! I'll handle the booking.  12/06/2024, 9:25 AM - Bob: Should we rent a car to explore the area?  12/06/2024, 9:28 AM - Charlie: Definitely. I found a rental service that's affordable. Here's their info. (image)  12/06/2024, 9:30 AM - Dave: Nice! Let's get a convertible. It'll be fun to drive around in.  12/06/2024, 9:35 AM - Alice: I agree. I'll book the car as well. Any preferences for activities?  12/06/2024, 9:40 AM - Bob: I'd love to try snorkeling. Check out this spot I found. (image)  12/06/2024, 9:42 AM - Charlie: Snorkeling sounds fun. How about a hike too? There's a trail nearby with great views.  12/06/2024, 9:45 AM - Dave: I'm up for anything! I also heard there's a local festival during our stay. We should go.  12/06/2024, 9:50 AM - Alice: Festival sounds great! Let's make a list of things we want to do.  12/06/2024, 9:55 AM - Bob: Good idea. Here's a tentative plan. (image)  12/06/2024, 10:00 AM - Charlie: Perfect! This is going to be an epic vacation.  12/06/2024, 10:05 AM - Dave: I can't wait! When do we leave?  12/06/2024, 10:10 AM - Alice: How about July 1st? Gives us enough time to prepare.  12/06/2024, 10:15 AM - Bob: Works for me. Let's do it!  12/06/2024, 10:18 AM - Charlie: Agreed. Counting down the days!  12/06/2024, 10:20 AM - Dave: Same here. Let's make this the best vacation ever!\",\n",
       "  'id': 0,\n",
       "  'golden_summary': 'Alice asks the group about their summer vacation plans. Bob suggests going to the beach and shares a picture, which excites everyone. Dave raises concerns about the budget, and Alice informs them it will cost $500 each for a week. Bob shares an audio clip of beach waves, adding to the excitement. The group decides to book the trip, with Alice handling the bookings. Bob suggests renting a car, and Charlie finds an affordable rental service. Dave proposes getting a convertible for fun. The group discusses activities like snorkeling, hiking, and attending a local festival. They make a list of things to do and plan to leave on July 1st, eagerly anticipating the vacation.'},\n",
       " {'text': \"30/06/2024, 3:00 PM - Mia: Hey everyone, what’s the plan for tonight? Any ideas? 30/06/2024, 3:01 PM - Alex: Hi Mia! How about dinner and then a movie? 30/06/2024, 3:02 PM - Chris: Sounds good to me. Any suggestions for the dinner place? 30/06/2024, 3:03 PM - Taylor: There's that new Italian restaurant downtown. Heard it's great! 30/06/2024, 3:04 PM - Jordan: Oh, I’ve been wanting to try that place. What time should we meet? 30/06/2024, 3:05 PM - Mia: How about 7 PM? That gives us enough time to enjoy dinner before the movie. 30/06/2024, 3:06 PM - Alex: 7 PM works for me. What movie are we watching? 30/06/2024, 3:07 PM - Chris: There’s that new action movie everyone’s talking about. What do you guys think? 30/06/2024, 3:08 PM - Taylor: Yes, I’m in! Been wanting to see that one. 30/06/2024, 3:09 PM - Jordan: Perfect, action movie it is. Should we book tickets in advance? 30/06/2024, 3:10 PM - Mia: Good idea. I can book them online. How many tickets do we need? 30/06/2024, 3:11 PM - Alex: Count me in. 30/06/2024, 3:12 PM - Chris: Me too. 30/06/2024, 3:13 PM - Taylor: Same here. 30/06/2024, 3:14 PM - Jordan: Yep, I’m in. 30/06/2024, 3:15 PM - Mia: Great, I’ll book 5 tickets for the 9 PM show. See you all at the Italian restaurant at 7 PM! 30/06/2024, 3:16 PM - Alex: Awesome, see you all tonight! 30/06/2024, 3:17 PM - Chris: Can’t wait! 30/06/2024, 3:18 PM - Taylor: Looking forward to it! 30/06/2024, 3:19 PM - Jordan: See you guys tonight!\",\n",
       "  'id': 1,\n",
       "  'golden_summary': 'In the group chat, Mia asks the group about plans for tonight. Alex suggests dinner and a movie, and Chris agrees. Taylor recommends a new Italian restaurant downtown, which everyone likes. They decide to meet at 7 PM. For the movie, they choose a new action film and agree on booking tickets in advance. Mia volunteers to book the tickets and confirms five for the 9 PM show. The group expresses excitement and looks forward to the evening’s plans.'},\n",
       " {'text': \"01/07/2024, 4:00 PM - Alex: Hey Jamie, I wanted to get your thoughts on the interview process for the new role. Can we discuss it? 01/07/2024, 4:01 PM - Jamie: Hi Alex! Sure, I’m happy to talk about it. What specifically do you want to go over? 01/07/2024, 4:02 PM - Alex: I’m curious about the stages of the interview process. Can you walk me through what to expect? 01/07/2024, 4:03 PM - Jamie: Of course. The process usually starts with a phone screening, where we discuss your background and assess if you're a good fit for the role. 01/07/2024, 4:04 PM - Alex: Got it. What happens after the phone screening? 01/07/2024, 4:05 PM - Jamie: If you pass the phone screening, the next step is typically an in-person or video interview with the hiring manager. This interview focuses on your skills, experience, and how you handle specific scenarios related to the job. 01/07/2024, 4:06 PM - Alex: Sounds straightforward. Are there any additional stages I should be aware of? 01/07/2024, 4:07 PM - Jamie: Yes, sometimes there’s a technical assessment or a case study, depending on the role. This could be a task or project to showcase your problem-solving skills and expertise. 01/07/2024, 4:08 PM - Alex: That makes sense. How do we evaluate candidates after the interviews? 01/07/2024, 4:09 PM - Jamie: We usually have a debrief meeting with the interview panel to discuss each candidate’s performance. We assess their skills, fit for the team, and overall potential. 01/07/2024, 4:10 PM - Alex: What if a candidate performs well but has a few gaps? How do we handle that? 01/07/2024, 4:11 PM - Jamie: If there are gaps, we consider whether they’re trainable or if they can be addressed with additional support. It’s important to weigh their potential and how well they align with our team culture. 01/07/2024, 4:12 PM - Alex: Got it. Are there any common mistakes candidates make that we should watch out for? 01/07/2024, 4:13 PM - Jamie: Yes, some candidates fail to research the company thoroughly or struggle with demonstrating their problem-solving process. It’s important for them to be prepared and articulate how their experience aligns with the role. 01/07/2024, 4:14 PM - Alex: Thanks for the insights, Jamie. This helps a lot. Is there anything else I should keep in mind? 01/07/2024, 4:15 PM - Jamie: Just ensure to be thorough in your evaluations and provide constructive feedback. It’s crucial for both the candidates and the company’s hiring decisions. 01/07/2024, 4:16 PM - Alex: Absolutely. I’ll keep that in mind. Thanks again for the detailed overview! 01/07/2024, 4:17 PM - Jamie: You’re welcome, Alex. Glad to help. Let me know if you have any more questions.\",\n",
       "  'id': 2,\n",
       "  'golden_summary': \"In the chat, Alex and Jamie discuss the interview process for a new role. Jamie explains that the process begins with a phone screening to assess fit, followed by an in-person or video interview with the hiring manager. There may also be a technical assessment or case study. After interviews, the panel debriefs to evaluate candidates' skills, fit, and potential. Jamie notes that gaps in candidates' skills are considered in terms of trainability and alignment with team culture. Common mistakes include inadequate company research and poor demonstration of problem-solving skills. Alex appreciates the insights and Jamie emphasizes the importance of thorough evaluations and constructive feedback.\"},\n",
       " {'text': 'Chat with Advanced Algorithms Class  01/07/2024, 6:00 PM - Mia: Hey everyone, what did you think of today’s advanced algorithms lesson? 01/07/2024, 6:01 PM - Liam: Hi Mia! I thought it was pretty intense. We covered a lot of new material. 01/07/2024, 6:02 PM - Ava: Agreed. The part about dynamic programming was especially challenging. 01/07/2024, 6:03 PM - Noah: Yeah, I was struggling with the concept of memoization. Can anyone explain it again? 01/07/2024, 6:04 PM - Mia: Memoization is essentially caching the results of expensive function calls and reusing them when the same inputs occur again. 01/07/2024, 6:05 PM - Liam: Exactly. It helps avoid redundant calculations by storing previously computed results. 01/07/2024, 6:06 PM - Ava: And we use memoization in dynamic programming to optimize solutions to problems by breaking them down into simpler subproblems. 01/07/2024, 6:07 PM - Noah: Got it. So, it’s like storing intermediate results to speed up the algorithm? 01/07/2024, 6:08 PM - Liam: Yes, that’s right. It reduces the time complexity by avoiding repeated work. 01/07/2024, 6:09 PM - Mia: What did you all think of the longest common subsequence problem we discussed? 01/07/2024, 6:10 PM - Ava: That was interesting. It’s a classic example of a problem that can be solved efficiently with dynamic programming. 01/07/2024, 6:11 PM - Noah: The example in class helped, but I’m still a bit unclear on how to build the DP table. 01/07/2024, 6:12 PM - Liam: For the longest common subsequence, you create a table where the cell (i, j) represents the length of the LCS of the first i characters of one string and the first j characters of another. 01/07/2024, 6:13 PM - Ava: And you fill this table based on whether the characters match or not. If they do, you add 1 to the value from the diagonal cell. 01/07/2024, 6:14 PM - Mia: If they don’t match, you take the maximum value from the cell directly above or to the left. 01/07/2024, 6:15 PM - Noah: Oh, that makes sense. So the table builds up the solution incrementally. 01/07/2024, 6:16 PM - Liam: Exactly. It’s a bottom-up approach where you solve smaller subproblems first. 01/07/2024, 6:17 PM - Ava: Did anyone find the example of the knapsack problem easier to understand? 01/07/2024, 6:18 PM - Mia: The knapsack problem was a bit clearer for me. The idea of choosing items to maximize the value while staying within weight constraints was straightforward. 01/07/2024, 6:19 PM - Noah: Yeah, the knapsack problem also uses dynamic programming but focuses on optimizing a different kind of problem. 01/07/2024, 6:20 PM - Liam: For knapsack, you also build a table, but this time the cell (i, w) represents the maximum value achievable with the first i items and a weight limit of w. 01/07/2024, 6:21 PM - Ava: And for each item, you decide whether to include it or not based on its weight and value. 01/07/2024, 6:22 PM - Mia: I found it helpful to visualize the DP table for knapsack. It really shows how decisions are made at each step. 01/07/2024, 6:23 PM - Noah: Same here. It’s useful to see how the optimal solution is built up from smaller subproblems. 01/07/2024, 6:24 PM - Liam: Did anyone have trouble with the examples in the textbook? Some of the explanations were confusing. 01/07/2024, 6:25 PM - Ava: Yes, the textbook examples were a bit dense. I think the lecture examples were clearer. 01/07/2024, 6:26 PM - Mia: Agreed. Maybe we could work on some additional problems together to solidify our understanding. 01/07/2024, 6:27 PM - Noah: That sounds like a good idea. Maybe we can meet up this weekend for a study session? 01/07/2024, 6:28 PM - Liam: I’m in. Let’s plan for Saturday afternoon. What do you all think? 01/07/2024, 6:29 PM - Ava: Saturday works for me. Let’s pick a time and place. 01/07/2024, 6:30 PM - Mia: How about 2 PM at the library? It’s usually quiet there. 01/07/2024, 6:31 PM - Noah: 2 PM at the library sounds perfect. 01/07/2024, 6:32 PM - Liam: Great, I’ll see you all there. Let’s bring our textbooks and notes. 01/07/2024, 6:33 PM - Ava: Sounds good. I’ll also bring some practice problems. 01/07/2024, 6:34 PM - Mia: Perfect! Looking forward to it. Thanks for coordinating, everyone. 01/07/2024, 6:35 PM - Noah: No problem. See you all on Saturday!',\n",
       "  'id': 3,\n",
       "  'golden_summary': 'In the chat, the group discusses the advanced algorithms lesson from today. They review concepts like memoization and dynamic programming, and specifically discuss problems like the longest common subsequence and knapsack problem. They clarify how dynamic programming tables are used to build solutions incrementally and share strategies for solving these problems. They also agree that the lecture examples were clearer than those in the textbook. The group decides to meet for a study session on Saturday afternoon at the library to work through additional problems and solidify their understanding.'},\n",
       " {'text': \"29/06/2024, 2:00 PM - Sarah: Hey John, how did the exam go for you?  29/06/2024, 2:02 PM - John: Hey Sarah, it was tough! Some questions were really tricky. How about you?  29/06/2024, 2:05 PM - Sarah: Same here. I struggled with the last question about quantum mechanics.   29/06/2024, 2:08 PM - John: Oh, that one was brutal! I wasn't sure about the second part of it at all.  29/06/2024, 2:10 PM - Sarah: Me neither. I just hope I got enough right to pass. Did you manage to finish all the questions?  29/06/2024, 2:12 PM - John: Barely! I skipped a couple and went back at the end. How about you?  29/06/2024, 2:15 PM - Sarah: I finished, but I was rushing towards the end. Did you find the multiple-choice questions easier?  29/06/2024, 2:18 PM - John: A bit, but there were a few that had very close answers. I second-guessed myself a lot.  29/06/2024, 2:20 PM - Sarah: Same here. I'm really anxious about the results. When do we get them?  29/06/2024, 2:22 PM - John: I think Professor Smith said we'd get them next week. Fingers crossed!  29/06/2024, 2:25 PM - Sarah: Yeah, fingers crossed! Do you want to review some of the questions later?  29/06/2024, 2:28 PM - John: Sure, that sounds good. Maybe we can figure out where we went wrong.  29/06/2024, 2:30 PM - Sarah: Exactly. Let's meet at the library tomorrow afternoon?  29/06/2024, 2:32 PM - John: Perfect, see you then at 3 PM.  29/06/2024, 2:35 PM - Sarah: See you! We've got this. \",\n",
       "  'id': 4,\n",
       "  'golden_summary': 'Sarah and John discuss their recent university exam, both finding it tough and expressing concern over specific questions, especially one on quantum mechanics. They both struggled with the multiple-choice questions and are anxious about the results, which they expect next week. They decide to meet at the library the next afternoon to review their answers and understand where they might have gone wrong, hoping to improve their performance in future exams.'},\n",
       " {'text': \"29/06/2024, 10:00 PM - Mike: Hey everyone, what did you think of the Italy-Switzerland game?  29/06/2024, 10:02 PM - Sarah: It was intense! Italy played so well. Check out this picture of the winning goal! (image)  29/06/2024, 10:05 PM - Alex: That goal was amazing! The whole stadium went crazy.  29/06/2024, 10:07 PM - Emma: Absolutely! Here's a shot of the fans celebrating. (image)  29/06/2024, 10:10 PM - Chris: The atmosphere was electric. Did you see the save by the Italian goalkeeper? Unreal! (image)  29/06/2024, 10:12 PM - Mike: Yeah, that was a game-changer. Switzerland had some good chances too, though.  29/06/2024, 10:15 PM - Sarah: True, but Italy's defense was rock solid. Here's a clip of that incredible defensive play. (image)  29/06/2024, 10:18 PM - Alex: I think that was the turning point. After that, Italy dominated.  29/06/2024, 10:20 PM - Emma: Totally. What about the referee's decisions? Do you think they were fair?  29/06/2024, 10:22 PM - Chris: For the most part, yes. There was that one questionable call, though.  29/06/2024, 10:25 PM - Mike: Which one? The offside decision?  29/06/2024, 10:28 PM - Sarah: Yeah, that one. It looked really close. Here's a still from the moment. (image)  29/06/2024, 10:30 PM - Alex: Oh wow, seeing it like that, it was super close. But I think the ref got it right.  29/06/2024, 10:32 PM - Emma: Agreed. Overall, a well-fought match. Italy deserved the win.  29/06/2024, 10:35 PM - Chris: Definitely. What a night! We should watch the next game together too.  29/06/2024, 10:37 PM - Mike: I'm in! Let's plan for it. Same place next week?  29/06/2024, 10:40 PM - Sarah: Sounds good to me. Can't wait!   29/06/2024, 10:42 PM - Alex: Count me in. Hopefully, it'll be just as exciting.  29/06/2024, 10:45 PM - Emma: For sure. Until then, goodnight everyone!  29/06/2024, 10:47 PM - Chris: Goodnight! See you all next week.\",\n",
       "  'id': 5,\n",
       "  'golden_summary': \"Mike asks the group about their thoughts on the Italy-Switzerland game. Sarah, Alex, and Chris share their excitement and post images of the winning goal, the fans celebrating, and a crucial save by the Italian goalkeeper. They discuss the turning points of the game, including Italy's solid defense and a close offside call, with Sarah posting a still image of the offside moment. They all agree that Italy deserved the win and decide to watch the next game together, planning to meet at the same place next week. The chat ends with everyone looking forward to the next match and saying goodnight.\\n\\n\\n\\n\\n\\n\"},\n",
       " {'text': \"29/06/2024, 6:00 PM - Lisa: Hey guys, do you want to grab a beer tonight?  29/06/2024, 6:02 PM - Mark: That sounds great! Where should we go?  29/06/2024, 6:05 PM - James: (audio)  29/06/2024, 6:07 PM - Lisa: Cool, I'm in! What time works for you both?  29/06/2024, 6:10 PM - Mark: How about 8 PM?  29/06/2024, 6:12 PM - James: 8 PM works for me. I'll meet you there.  29/06/2024, 6:15 PM - Lisa: Perfect, see you guys at 8 then!  29/06/2024, 6:18 PM - Mark: Looking forward to it. Should we invite anyone else?  29/06/2024, 6:20 PM - James: I think it's just us tonight. More room to catch up!  29/06/2024, 6:22 PM - Lisa: Agreed. See you soon!\",\n",
       "  'id': 6,\n",
       "  'golden_summary': 'Lisa suggests grabbing a beer that evening. Mark and James are keen on the idea. James recommends a good downtown spot and shares an audio file with no text, likely a quick review. Lisa agrees to the suggestion and they decide on meeting at 8 PM. Mark confirms and considers inviting others, but they opt to keep it among themselves for a more intimate catch-up. They plan to meet at 8 PM for their evening out.'},\n",
       " {'text': \"29/06/2024, 5:00 PM - Mom: Hey everyone, what do you think about going out for dinner tonight?   29/06/2024, 5:02 PM - Dad: Sounds good to me! How about that new Italian place downtown? Here's a picture of their menu.  (image)  29/06/2024, 5:05 PM - Sister: Yum, that looks delicious! I'm in for Italian. Here's a photo of their outdoor seating area.  (image)  29/06/2024, 5:08 PM - Brother: Italian sounds great to me too. What time are we thinking?  29/06/2024, 5:10 PM - Mom: How about 7 PM? Does that work for everyone?  29/06/2024, 5:12 PM - Dad: Perfect. See you all there at 7!   29/06/2024, 5:15 PM - Sister: Looking forward to it!   29/06/2024, 5:18 PM - Brother: Can't wait! It's been a while since we've had a family dinner out.   29/06/2024, 5:20 PM - Mom: Agreed. See you all soon! \",\n",
       "  'id': 7,\n",
       "  'golden_summary': \"Mom suggests going out for dinner that evening, and Dad proposes a new Italian restaurant downtown, sharing a picture of their menu. Sister likes the idea and shares a photo of the restaurant's outdoor seating. Brother agrees to Italian food and asks about the timing. Mom suggests 7 PM, which everyone agrees on. They confirm the plan to meet at 7 PM and express anticipation for the family dinner out.\"},\n",
       " {'text': \"30/06/2024, 10:00 AM - Alex: Hey there! I've been looking into building a new PC. Got any recommendations?   30/06/2024, 10:02 AM - Emily: Hi Alex! Definitely, I can help. Check out this motherboard I found. Here's a picture of it! (image)  30/06/2024, 10:05 AM - Alex: Wow, that looks solid! Do you think it'll support the latest CPUs?  30/06/2024, 10:08 AM - Emily: Absolutely! Here's a review I found about it. Give it a listen!  (audio)  30/06/2024, 10:10 AM - Alex: Nice, thanks! What about the graphics card? Any ideas?  30/06/2024, 10:12 AM - Emily: I'm thinking about this one. It's got great performance for gaming and rendering. Here's a picture of it! (image)  30/06/2024, 10:15 AM - Alex: Perfect choice! How about storage? SSD or HDD?  30/06/2024, 10:18 AM - Emily: SSD all the way. Here's a comparison I made earlier. Check it out! (image)  30/06/2024, 10:20 AM - Alex: Impressive speed! RAM next. Should we go for 16GB or push for 32GB?  30/06/2024, 10:22 AM - Emily: I'd say 32GB for future-proofing. Here's a deal I found.  (image)  30/06/2024, 10:25 AM - Alex: Great find! How about cooling? Liquid or air?  30/06/2024, 10:28 AM - Emily: Liquid cooling for better performance. Here's a setup I'm considering. What do you think? (image)  30/06/2024, 10:30 AM - Alex: Looks efficient. Power supply? Got any recommendations?  30/06/2024, 10:32 AM - Emily: This one should handle everything we've discussed. Check it out! (image)  30/06/2024, 10:35 AM - Alex: Perfect. Case next. Something sleek and spacious?  30/06/2024, 10:38 AM - Emily: Found this one with good airflow and cable management. Take a look! (image)  30/06/2024, 10:40 AM - Alex: Nice choice! Now, peripherals. Any thoughts on monitor and keyboard?  30/06/2024, 10:42 AM - Emily: Check out this monitor. High refresh rate for gaming. (image)  30/06/2024, 10:45 AM - Alex: Sweet! What about the keyboard? Mechanical or membrane?  30/06/2024, 10:48 AM - Emily: Mechanical all the way. Here's a favorite of mine. (image)  30/06/2024, 10:50 AM - Alex: Awesome setup! Do you think we missed anything?  30/06/2024, 10:52 AM - Emily: Maybe some RGB lighting for aesthetics?   30/06/2024, 10:55 AM - Alex: Good call! RGB all around.  30/06/2024, 10:58 AM - Emily: Ready to order everything?  30/06/2024, 11:00 AM - Alex: Let's do it! Excited to put this together.  30/06/2024, 11:05 AM - Emily: Me too! It's gonna be an epic build.  30/06/2024, 11:10 AM - Alex: Can't wait to fire it up for the first time!  30/06/2024, 11:15 AM - Emily: It's gonna be amazing.  30/06/2024, 11:20 AM - Alex: Thanks for all your help, Emily. This is gonna be the best rig yet.  30/06/2024, 11:25 AM - Emily: Anytime, Alex! Happy building!  30/06/2024, 11:30 AM - Alex: See you on the battlefield soon!\",\n",
       "  'id': 8,\n",
       "  'golden_summary': 'Alex and Emily discuss building a new PC. Alex seeks recommendations, and Emily suggests a motherboard and graphics card with pictures. They debate CPU support and storage options (SSD preferred). RAM and cooling choices (liquid cooling) follow, with peripherals like monitor (high refresh rate) and mechanical keyboard favored. They consider RGB lighting for aesthetics. Ultimately, they finalize their choices and express excitement about assembling the PC together.'},\n",
       " {'text': \"29/06/2024, 8:30 PM - Alex: Did you guys watch the derby? What a game! 29/06/2024, 8:31 PM - Sam: Yes! Inter Milan was on fire  29/06/2024, 8:32 PM - Jordan: Totally! They really showed Milan who's boss. 29/06/2024, 8:33 PM - Taylor: That first goal by Lautaro Martinez was amazing! 29/06/2024, 8:34 PM - Casey: Absolutely, Lautaro was unstoppable tonight. 29/06/2024, 8:35 PM - Alex: And that assist from Barella, so smooth! 29/06/2024, 8:36 PM - Sam: I think Milan's defense just couldn't keep up. 29/06/2024, 8:37 PM - Jordan: Agreed. They looked so disorganized at the back. 29/06/2024, 8:38 PM - Chris: As a Milan fan, this was painful to watch  29/06/2024, 8:39 PM - Jamie: Same here, Chris. Milan just didn't show up tonight. 29/06/2024, 8:40 PM - Taylor: What did you think of Inter's second goal? Perfect counter-attack. 29/06/2024, 8:41 PM - Chris: It was a great goal, but Milan's defense was nowhere to be seen. 29/06/2024, 8:42 PM - Casey: That was a textbook counter. Quick and precise. 29/06/2024, 8:43 PM - Alex: Inter really deserved the win. Milan had their chances but just couldn't convert. 29/06/2024, 8:44 PM - Sam: True, and Onana made some great saves for Inter. 29/06/2024, 8:45 PM - Jamie: We had our chances, but our finishing was terrible. 29/06/2024, 8:46 PM - Jordan: Man of the match for me was definitely Lautaro. His performance was top-notch. 29/06/2024, 8:47 PM - Chris: Lautaro was great, but Milan should have marked him better. 29/06/2024, 8:48 PM - Taylor: Yeah, he was brilliant. Do you think Inter can keep up this form for the rest of the season? 29/06/2024, 8:49 PM - Casey: If they play like this, definitely. They've got a strong squad. 29/06/2024, 8:50 PM - Jamie: Milan needs to regroup and fix their defense ASAP. 29/06/2024, 8:51 PM - Alex: Next few matches will be crucial. But for tonight, let's celebrate this win!  29/06/2024, 8:52 PM - Sam: Cheers to that!  29/06/2024, 8:53 PM - Jordan: Forza Inter!  29/06/2024, 8:55 PM - Casey: Amalaaaa!  29/06/2024, 8:56 PM - Chris: Hopefully Milan will bounce back soon. 29/06/2024, 8:57 PM - Jamie: Yeah, let's hope so. Forza Milan! \",\n",
       "  'id': 9,\n",
       "  'golden_summary': \"In the group chat, five friends discussed the thrilling derby between Inter Milan and Milan, which ended with Inter Milan's victory. Alex kicked off the conversation, noting what an exciting game it was. Sam and Jordan praised Inter Milan's performance, while Taylor and Casey highlighted the exceptional plays by Lautaro Martinez and Nicolo Barella.\\nChris and Jamie, frustrated Milan fans, expressed their disappointment in Milan's performance, particularly criticizing their disorganized defense and poor finishing. Despite this, they acknowledged the skill and precision of Inter Milan's attacks, especially during the second goal.\\nThe discussion shifted to Inter's deserved win and the standout performance by Lautaro Martinez, considered the man of the match. Casey and Taylor expressed optimism about Inter's form for the rest of the season, while Jamie stressed the need for Milan to improve their defense.\\nThe chat ended with Alex calling for a celebration of Inter's win, supported by cheers from Sam, Jordan, and Casey. Chris and Jamie, though disheartened, hoped for Milan's swift recovery and better performances in future matches.\\n\"},\n",
       " {'text': \"30/06/2024, 10:00 AM - Alex: Hey Emma, are you excited about our trip to Barcelona? 30/06/2024, 10:01 AM - Emma: Hey Alex! Super excited! Can't wait to explore the city. Have you thought about our itinerary yet? 30/06/2024, 10:02 AM - Alex: I have a few ideas. How about starting with a visit to the Sagrada Familia? 30/06/2024, 10:03 AM - Emma: Yes, that's a must-see! We should book tickets in advance though. 30/06/2024, 10:04 AM - Alex: Good point. I'll handle the bookings. What do you think about a day trip to Park Güell after that? 30/06/2024, 10:05 AM - Emma: That sounds perfect. We can have a picnic there too. 30/06/2024, 10:06 AM - Alex: Great idea! How about spending an evening strolling down La Rambla? 30/06/2024, 10:07 AM - Emma: Definitely! And we should check out the Boqueria Market for some local food. 30/06/2024, 10:08 AM - Alex: Absolutely. I'm also thinking we can visit the Gothic Quarter for some history and cool architecture. 30/06/2024, 10:09 AM - Emma: Yes! And maybe catch a flamenco show in the evening? 30/06/2024, 10:10 AM - Alex: That would be amazing. I've heard Tablao Cordobés is a great place for that. 30/06/2024, 10:11 AM - Emma: Perfect. Also, we shouldn't miss the beach. A relaxing day at Barceloneta would be nice. 30/06/2024, 10:12 AM - Alex: Agreed. We can rent bikes and ride along the beach. 30/06/2024, 10:13 AM - Emma: Sounds fun! We should also find some time for the Picasso Museum. 30/06/2024, 10:14 AM - Alex: Definitely. I'll add it to our list. Any other places you want to visit? 30/06/2024, 10:15 AM - Emma: Maybe Montjuïc Hill for the Magic Fountain show? 30/06/2024, 10:16 AM - Alex: Yes! That show is spectacular. I'll make sure we have that in our itinerary. 30/06/2024, 10:17 AM - Emma: Thanks, Alex. This is going to be an awesome trip! 30/06/2024, 10:18 AM - Alex: Can't wait! I'll finalize the bookings and send you the details soon. 30/06/2024, 10:19 AM - Emma: Sounds good. Talk to you later! 30/06/2024, 10:20 AM - Alex: Later!\",\n",
       "  'id': 10,\n",
       "  'golden_summary': 'In the chat, Alex and Emma excitedly discuss their upcoming trip to Barcelona. They plan to start their visit with the Sagrada Familia and then enjoy a day at Park Güell, including a picnic. They agree on an evening stroll down La Rambla and a visit to the Boqueria Market for local food. Exploring the Gothic Quarter and catching a flamenco show at Tablao Cordobés are also on their list.\\nThey plan a relaxing day at Barceloneta Beach with bike rides, and they aim to visit the Picasso Museum. Emma suggests ending a day with the Magic Fountain show at Montjuïc Hill, which Alex adds to their itinerary. Alex takes charge of making bookings and promises to finalize the details, while both look forward to an amazing trip.'},\n",
       " {'text': \"30/06/2024, 9:00 AM - Emily: Hey everyone, we need to schedule our next workgroup meeting. When are you all available? 30/06/2024, 9:02 AM - Ryan: Hi Emily, I'm available Tuesday and Thursday afternoons. 30/06/2024, 9:03 AM - Lisa: Tuesday works for me. How about you, Mark? 30/06/2024, 9:04 AM - Mark: Tuesday afternoon is fine. What time are we thinking? 30/06/2024, 9:05 AM - Emily: How does 2 PM sound for everyone? 30/06/2024, 9:06 AM - Ryan: 2 PM works for me. 30/06/2024, 9:07 AM - Lisa: Same here. 2 PM on Tuesday it is. 30/06/2024, 9:08 AM - Mark: Perfect. Do we have an agenda for the meeting? 30/06/2024, 9:09 AM - Emily: Yes, we need to discuss the project timeline, allocate tasks, and review the latest client feedback. 30/06/2024, 9:10 AM - Ryan: Sounds good. Should we prepare anything in advance? 30/06/2024, 9:11 AM - Emily: Yes, please review the client feedback document I sent last week and think about any tasks you can take on. 30/06/2024, 9:12 AM - Lisa: Got it. I'll review the document and come prepared with my thoughts. 30/06/2024, 9:13 AM - Mark: I'll do the same. Looking forward to it. 30/06/2024, 9:14 AM - Ryan: Me too. See you all on Tuesday at 2 PM. 30/06/2024, 9:15 AM - Emily: Great! See you then.\",\n",
       "  'id': 11,\n",
       "  'golden_summary': 'In the group chat, Emily initiates the scheduling of the next workgroup meeting. Ryan, Lisa, and Mark confirm their availability for Tuesday afternoon. They agree on a meeting time of 2 PM. Emily outlines the agenda, which includes discussing the project timeline, allocating tasks, and reviewing client feedback. She asks everyone to review the client feedback document beforehand. The team members acknowledge and agree to come prepared, looking forward to the meeting.'}]"
      ]
     },
     "execution_count": 29,
     "metadata": {},
     "output_type": "execute_result"
    }
   ],
   "source": [
    "path = \".\\exported_chat\"\n",
    "dataset = []\n",
    "for i, dir in enumerate(os.listdir(path)):\n",
    "    chat_file_path = os.path.join(path, dir, \"sample_whatsapp.txt\")\n",
    "    summary_file_path = os.path.join(path, dir, \"summary.txt\")\n",
    "    if os.path.exists(chat_file_path) and os.path.exists(summary_file_path):\n",
    "        dataset.append(create_dict(chat_file_path, i, summary_file_path))\n",
    "\n",
    "dataset\n"
   ]
  },
  {
   "cell_type": "code",
   "execution_count": null,
   "metadata": {},
   "outputs": [],
   "source": []
  }
 ],
 "metadata": {
  "kernelspec": {
   "display_name": "Python 3",
   "language": "python",
   "name": "python3"
  },
  "language_info": {
   "codemirror_mode": {
    "name": "ipython",
    "version": 3
   },
   "file_extension": ".py",
   "mimetype": "text/x-python",
   "name": "python",
   "nbconvert_exporter": "python",
   "pygments_lexer": "ipython3",
   "version": "3.11.2"
  }
 },
 "nbformat": 4,
 "nbformat_minor": 2
}
