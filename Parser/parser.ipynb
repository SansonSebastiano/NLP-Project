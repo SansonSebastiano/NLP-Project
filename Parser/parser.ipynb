{
 "cells": [
  {
   "cell_type": "code",
   "execution_count": 2,
   "metadata": {},
   "outputs": [],
   "source": [
    "import re\n",
    "import json as js\n",
    "import os\n",
    "import demoji"
   ]
  },
  {
   "cell_type": "code",
   "execution_count": 2,
   "metadata": {},
   "outputs": [],
   "source": [
    "# 6/6/24, 9:17 PM - +39 370 703 0730: la gpu\n",
    "def get_datehour(line):\n",
    "    # return date and hour object\n",
    "    return line.split()[0][:-1].replace(\"/\", \"-\"), line.split()[1][:-1]\n"
   ]
  },
  {
   "cell_type": "code",
   "execution_count": 3,
   "metadata": {},
   "outputs": [],
   "source": [
    "def check_valid(line):\n",
    "    # Regex for check if the line follow the format: 6/6/24, 9:17 PM - +39 370 703 0730: la gpu\n",
    "    return re.match(r\"\\d+/\\d+/\\d+, \\d+:\\d+\\s[AP]M - \\+\\d+ \\d+ \\d+: .+\", line) is not None"
   ]
  },
  {
   "cell_type": "code",
   "execution_count": 4,
   "metadata": {},
   "outputs": [
    {
     "ename": "FileNotFoundError",
     "evalue": "[Errno 2] No such file or directory: './exported_chat/sample_whatsapp.txt'",
     "output_type": "error",
     "traceback": [
      "\u001b[1;31m---------------------------------------------------------------------------\u001b[0m",
      "\u001b[1;31mFileNotFoundError\u001b[0m                         Traceback (most recent call last)",
      "Cell \u001b[1;32mIn[4], line 3\u001b[0m\n\u001b[0;32m      1\u001b[0m file_name \u001b[38;5;241m=\u001b[39m \u001b[38;5;124m\"\u001b[39m\u001b[38;5;124msample_whatsapp\u001b[39m\u001b[38;5;124m\"\u001b[39m\n\u001b[0;32m      2\u001b[0m current_date \u001b[38;5;241m=\u001b[39m \u001b[38;5;124m\"\u001b[39m\u001b[38;5;124m\"\u001b[39m\n\u001b[1;32m----> 3\u001b[0m \u001b[38;5;28;01mwith\u001b[39;00m \u001b[38;5;28;43mopen\u001b[39;49m\u001b[43m(\u001b[49m\u001b[38;5;124;43m\"\u001b[39;49m\u001b[38;5;124;43m./exported_chat/\u001b[39;49m\u001b[38;5;124;43m\"\u001b[39;49m\u001b[43m \u001b[49m\u001b[38;5;241;43m+\u001b[39;49m\u001b[43m \u001b[49m\u001b[43mfile_name\u001b[49m\u001b[43m \u001b[49m\u001b[38;5;241;43m+\u001b[39;49m\u001b[43m \u001b[49m\u001b[38;5;124;43m\"\u001b[39;49m\u001b[38;5;124;43m.txt\u001b[39;49m\u001b[38;5;124;43m\"\u001b[39;49m\u001b[43m,\u001b[49m\u001b[43m \u001b[49m\u001b[38;5;124;43m\"\u001b[39;49m\u001b[38;5;124;43mr\u001b[39;49m\u001b[38;5;124;43m\"\u001b[39;49m\u001b[43m,\u001b[49m\u001b[43m \u001b[49m\u001b[43mencoding\u001b[49m\u001b[38;5;241;43m=\u001b[39;49m\u001b[38;5;124;43m\"\u001b[39;49m\u001b[38;5;124;43mutf-8\u001b[39;49m\u001b[38;5;124;43m\"\u001b[39;49m\u001b[43m)\u001b[49m \u001b[38;5;28;01mas\u001b[39;00m file:\n\u001b[0;32m      4\u001b[0m     data \u001b[38;5;241m=\u001b[39m file\u001b[38;5;241m.\u001b[39mreadlines()\n\u001b[0;32m      5\u001b[0m     \u001b[38;5;28;01mfor\u001b[39;00m line \u001b[38;5;129;01min\u001b[39;00m data:\n\u001b[0;32m      6\u001b[0m         \u001b[38;5;66;03m# Check if the line is valid\u001b[39;00m\n",
      "File \u001b[1;32m~\\AppData\\Roaming\\Python\\Python311\\site-packages\\IPython\\core\\interactiveshell.py:324\u001b[0m, in \u001b[0;36m_modified_open\u001b[1;34m(file, *args, **kwargs)\u001b[0m\n\u001b[0;32m    317\u001b[0m \u001b[38;5;28;01mif\u001b[39;00m file \u001b[38;5;129;01min\u001b[39;00m {\u001b[38;5;241m0\u001b[39m, \u001b[38;5;241m1\u001b[39m, \u001b[38;5;241m2\u001b[39m}:\n\u001b[0;32m    318\u001b[0m     \u001b[38;5;28;01mraise\u001b[39;00m \u001b[38;5;167;01mValueError\u001b[39;00m(\n\u001b[0;32m    319\u001b[0m         \u001b[38;5;124mf\u001b[39m\u001b[38;5;124m\"\u001b[39m\u001b[38;5;124mIPython won\u001b[39m\u001b[38;5;124m'\u001b[39m\u001b[38;5;124mt let you open fd=\u001b[39m\u001b[38;5;132;01m{\u001b[39;00mfile\u001b[38;5;132;01m}\u001b[39;00m\u001b[38;5;124m by default \u001b[39m\u001b[38;5;124m\"\u001b[39m\n\u001b[0;32m    320\u001b[0m         \u001b[38;5;124m\"\u001b[39m\u001b[38;5;124mas it is likely to crash IPython. If you know what you are doing, \u001b[39m\u001b[38;5;124m\"\u001b[39m\n\u001b[0;32m    321\u001b[0m         \u001b[38;5;124m\"\u001b[39m\u001b[38;5;124myou can use builtins\u001b[39m\u001b[38;5;124m'\u001b[39m\u001b[38;5;124m open.\u001b[39m\u001b[38;5;124m\"\u001b[39m\n\u001b[0;32m    322\u001b[0m     )\n\u001b[1;32m--> 324\u001b[0m \u001b[38;5;28;01mreturn\u001b[39;00m \u001b[43mio_open\u001b[49m\u001b[43m(\u001b[49m\u001b[43mfile\u001b[49m\u001b[43m,\u001b[49m\u001b[43m \u001b[49m\u001b[38;5;241;43m*\u001b[39;49m\u001b[43margs\u001b[49m\u001b[43m,\u001b[49m\u001b[43m \u001b[49m\u001b[38;5;241;43m*\u001b[39;49m\u001b[38;5;241;43m*\u001b[39;49m\u001b[43mkwargs\u001b[49m\u001b[43m)\u001b[49m\n",
      "\u001b[1;31mFileNotFoundError\u001b[0m: [Errno 2] No such file or directory: './exported_chat/sample_whatsapp.txt'"
     ]
    }
   ],
   "source": [
    "file_name = \"sample_whatsapp\"\n",
    "current_date = \"\"\n",
    "with open(\"./exported_chat/\" + file_name + \".txt\", \"r\", encoding=\"utf-8\") as file:\n",
    "    data = file.readlines()\n",
    "    for line in data:\n",
    "        # Check if the line is valid\n",
    "        if not check_valid(line):\n",
    "            continue\n",
    "        date, hour = get_datehour(line)\n",
    "        if current_date == \"\":\n",
    "            data = date\n",
    "        if current_date != date:\n",
    "            past_date = date\n",
    "        # Create or append to the file\n",
    "        with open(file_name + \"_\" + past_date + \".txt\", \"a\", encoding=\"utf-8\") as new_file:\n",
    "            new_file.write(line)\n",
    "# Output\n",
    "\n"
   ]
  },
  {
   "cell_type": "code",
   "execution_count": null,
   "metadata": {},
   "outputs": [
    {
     "ename": "FileNotFoundError",
     "evalue": "[Errno 2] No such file or directory: 'sample_whatsapp.txt'",
     "output_type": "error",
     "traceback": [
      "\u001b[1;31m---------------------------------------------------------------------------\u001b[0m",
      "\u001b[1;31mFileNotFoundError\u001b[0m                         Traceback (most recent call last)",
      "Cell \u001b[1;32mIn[4], line 3\u001b[0m\n\u001b[0;32m      1\u001b[0m \u001b[38;5;66;03m# Create json file\u001b[39;00m\n\u001b[1;32m----> 3\u001b[0m \u001b[38;5;28;01mwith\u001b[39;00m \u001b[38;5;28;43mopen\u001b[39;49m\u001b[43m(\u001b[49m\u001b[43mfile_name\u001b[49m\u001b[43m  \u001b[49m\u001b[38;5;241;43m+\u001b[39;49m\u001b[43m \u001b[49m\u001b[38;5;124;43m\"\u001b[39;49m\u001b[38;5;124;43m.txt\u001b[39;49m\u001b[38;5;124;43m\"\u001b[39;49m\u001b[43m,\u001b[49m\u001b[43m \u001b[49m\u001b[38;5;124;43m\"\u001b[39;49m\u001b[38;5;124;43mr\u001b[39;49m\u001b[38;5;124;43m\"\u001b[39;49m\u001b[43m,\u001b[49m\u001b[43m \u001b[49m\u001b[43mencoding\u001b[49m\u001b[38;5;241;43m=\u001b[39;49m\u001b[38;5;124;43m\"\u001b[39;49m\u001b[38;5;124;43mutf-8\u001b[39;49m\u001b[38;5;124;43m\"\u001b[39;49m\u001b[43m)\u001b[49m \u001b[38;5;28;01mas\u001b[39;00m file:\n\u001b[0;32m      4\u001b[0m     data \u001b[38;5;241m=\u001b[39m file\u001b[38;5;241m.\u001b[39mreadlines()\n\u001b[0;32m      5\u001b[0m     json \u001b[38;5;241m=\u001b[39m {}\n",
      "File \u001b[1;32m~\\AppData\\Roaming\\Python\\Python311\\site-packages\\IPython\\core\\interactiveshell.py:324\u001b[0m, in \u001b[0;36m_modified_open\u001b[1;34m(file, *args, **kwargs)\u001b[0m\n\u001b[0;32m    317\u001b[0m \u001b[38;5;28;01mif\u001b[39;00m file \u001b[38;5;129;01min\u001b[39;00m {\u001b[38;5;241m0\u001b[39m, \u001b[38;5;241m1\u001b[39m, \u001b[38;5;241m2\u001b[39m}:\n\u001b[0;32m    318\u001b[0m     \u001b[38;5;28;01mraise\u001b[39;00m \u001b[38;5;167;01mValueError\u001b[39;00m(\n\u001b[0;32m    319\u001b[0m         \u001b[38;5;124mf\u001b[39m\u001b[38;5;124m\"\u001b[39m\u001b[38;5;124mIPython won\u001b[39m\u001b[38;5;124m'\u001b[39m\u001b[38;5;124mt let you open fd=\u001b[39m\u001b[38;5;132;01m{\u001b[39;00mfile\u001b[38;5;132;01m}\u001b[39;00m\u001b[38;5;124m by default \u001b[39m\u001b[38;5;124m\"\u001b[39m\n\u001b[0;32m    320\u001b[0m         \u001b[38;5;124m\"\u001b[39m\u001b[38;5;124mas it is likely to crash IPython. If you know what you are doing, \u001b[39m\u001b[38;5;124m\"\u001b[39m\n\u001b[0;32m    321\u001b[0m         \u001b[38;5;124m\"\u001b[39m\u001b[38;5;124myou can use builtins\u001b[39m\u001b[38;5;124m'\u001b[39m\u001b[38;5;124m open.\u001b[39m\u001b[38;5;124m\"\u001b[39m\n\u001b[0;32m    322\u001b[0m     )\n\u001b[1;32m--> 324\u001b[0m \u001b[38;5;28;01mreturn\u001b[39;00m \u001b[43mio_open\u001b[49m\u001b[43m(\u001b[49m\u001b[43mfile\u001b[49m\u001b[43m,\u001b[49m\u001b[43m \u001b[49m\u001b[38;5;241;43m*\u001b[39;49m\u001b[43margs\u001b[49m\u001b[43m,\u001b[49m\u001b[43m \u001b[49m\u001b[38;5;241;43m*\u001b[39;49m\u001b[38;5;241;43m*\u001b[39;49m\u001b[43mkwargs\u001b[49m\u001b[43m)\u001b[49m\n",
      "\u001b[1;31mFileNotFoundError\u001b[0m: [Errno 2] No such file or directory: 'sample_whatsapp.txt'"
     ]
    }
   ],
   "source": [
    "\n",
    "# Create json file\n",
    "\n",
    "with open(file_name  + \".txt\", \"r\", encoding=\"utf-8\") as file:\n",
    "    data = file.readlines()\n",
    "    json = {}\n",
    "    json[\"dataset_name\"] = \"CustomDATA\"\n",
    "    json[\"dialogue_type\"] = \"Open-Domain\"\n",
    "    json[\"reference_summ\"] = \"\"\n",
    "    dialogue = []\n",
    "    speaker = []\n",
    "    for line in data:\n",
    "        json_sent = {}\n",
    "        #if not check_valid(line):\n",
    "        #    continue\n",
    "        author = line[17:].split(\":\")[0]\n",
    "        if author not in speaker:\n",
    "            speaker.append(author)\n",
    "        json_sent[\"speaker\"] = \"Speaker\" + str(speaker.index(author) + 1)\n",
    "        print(line)\n",
    "        json_sent[\"sentences\"] = [line.split(\":\")[1]]\n",
    "        json_sent[\"utterance\"] = line.split(\":\")[1]\n",
    "        json_sent[\"role\"] = author\n",
    "        dialogue.append(json_sent)\n",
    "    json[\"dialogue\"] = dialogue\n",
    "    print(dialogue)\n",
    "    with open(file_name + \"_\" + past_date + \".json\", \"w\", encoding=\"utf-8\") as new_file:\n",
    "        js.dump(json, new_file)"
   ]
  },
  {
   "cell_type": "code",
   "execution_count": 4,
   "metadata": {},
   "outputs": [
    {
     "name": "stdout",
     "output_type": "stream",
     "text": [
      "Alice: Hey everyone, have you thought about our summer vacation yet?  Bob: Yes! I was thinking about going to the beach. Here's a picture of the place I found. IMG_01.jpg  Charlie: Wow, that looks amazing, Bob! I'm totally in. |smiling face with heart-eyes|  Dave: Looks great! I'm just concerned about the budget. How much would it cost us?  Alice: I did some research. It's about $500 each for a week, including accommodation.  Bob: That's not bad.  Charlie: That sounds perfect! I can already imagine us there. |relieved face||beach with umbrella|  Dave: I'm in too. Let's book it!  Alice: Awesome! I'll handle the booking.  Bob: Should we rent a car to explore the area?  Charlie: Definitely. I found a rental service that's affordable.   Dave: Nice! Let's get a convertible. It'll be fun to drive around in.  Alice: I agree. I'll book the car as well. Any preferences for activities?  Bob: I'd love to try snorkeling. Check out this spot I found. IMG_02.webp  Charlie: Snorkeling sounds fun. How about a hike too? There's a trail nearby with great views.  Dave: I'm up for anything! I also heard there's a local festival during our stay. We should go.  Alice: Festival sounds great! Let's make a list of things we want to do.  Bob: Good idea.  Charlie: Perfect! This is going to be an epic vacation.  Dave: I can't wait! When do we leave?  Alice: How about July 1st? Gives us enough time to prepare.  Bob: Works for me. Let's do it!  Charlie: Agreed. Counting down the days!  Dave: Same here. Let's make this the best vacation ever!\n"
     ]
    }
   ],
   "source": [
    "# \\d{1,2}/\\d{1,2}/\\d{2}, \\d{1,2}:\\d{2} (?:AM|PM) - \n",
    "def clean_chat(file_name, keepEmojiText=False):\n",
    "    text=\"\"\n",
    "    regex = r\"\\d{1,2}\\/\\d{1,2}\\/\\d{2}, \\d{1,2}:\\d{2}.(?:AM|PM) - \"\n",
    "    with open(file_name, 'r', encoding=\"utf-8\") as file:\n",
    "        for line in file:\n",
    "            if re.match(regex, line):\n",
    "                line = re.sub(regex, \"\", line)\n",
    "            line = re.sub(r\"\\n\", \" \", line)\n",
    "            if not keepEmojiText:\n",
    "                line = demoji.replace(line)\n",
    "            else:\n",
    "                line = demoji.replace_with_desc(line, \"|\")\n",
    "            text += line\n",
    "    return text\n",
    "        \n",
    "print(clean_chat(\"./exported_chat/sample_whatsapp1/sample_whatsapp.txt\", True))         "
   ]
  },
  {
   "cell_type": "code",
   "execution_count": 5,
   "metadata": {},
   "outputs": [],
   "source": [
    "'''\n",
    "create a dictionary with the following structure: id, text, golden_summary\n",
    "'''\n",
    "def create_dict(whatsapp_file, id, golden_summary_path):\n",
    "    with open(golden_summary_path, 'r', encoding='utf-8') as file:\n",
    "        summary = file.read()\n",
    "\n",
    "    chat = { \n",
    "        \"text\": clean_chat(whatsapp_file),\n",
    "        \"id\": id,\n",
    "        \"golden_summary\": summary\n",
    "    }\n",
    "    return chat"
   ]
  },
  {
   "cell_type": "code",
   "execution_count": 6,
   "metadata": {},
   "outputs": [
    {
     "data": {
      "text/plain": [
       "[{'text': \"Alice: Hey everyone, have you thought about our summer vacation yet?  Bob: Yes! I was thinking about going to the beach. Here's a picture of the place I found. IMG_01.jpg  Charlie: Wow, that looks amazing, Bob! I'm totally in.   Dave: Looks great! I'm just concerned about the budget. How much would it cost us?  Alice: I did some research. It's about $500 each for a week, including accommodation.  Bob: That's not bad.  Charlie: That sounds perfect! I can already imagine us there.   Dave: I'm in too. Let's book it!  Alice: Awesome! I'll handle the booking.  Bob: Should we rent a car to explore the area?  Charlie: Definitely. I found a rental service that's affordable.   Dave: Nice! Let's get a convertible. It'll be fun to drive around in.  Alice: I agree. I'll book the car as well. Any preferences for activities?  Bob: I'd love to try snorkeling. Check out this spot I found. IMG_02.webp  Charlie: Snorkeling sounds fun. How about a hike too? There's a trail nearby with great views.  Dave: I'm up for anything! I also heard there's a local festival during our stay. We should go.  Alice: Festival sounds great! Let's make a list of things we want to do.  Bob: Good idea.  Charlie: Perfect! This is going to be an epic vacation.  Dave: I can't wait! When do we leave?  Alice: How about July 1st? Gives us enough time to prepare.  Bob: Works for me. Let's do it!  Charlie: Agreed. Counting down the days!  Dave: Same here. Let's make this the best vacation ever!\",\n",
       "  'id': 0,\n",
       "  'golden_summary': 'Alice asks the group about their summer vacation plans. Bob suggests going to the beach and shares a picture of a clean beach, which excites everyone. Dave raises concerns about the budget, and Alice informs them it will cost $500 each for a week. The group decides to book the trip, with Alice handling the bookings. Bob suggests renting a car, and Charlie finds an affordable rental service. Dave proposes getting a convertible for fun. The group discusses activities like snorkeling, hiking, and attending a local festival and Bob sent a picture of a spot where thera are also some fishes. They make a list of things to do and plan to leave on July 1st, eagerly anticipating the vacation.'},\n",
       " {'text': \"Mia: Hey everyone, what’s the plan for tonight? Any ideas? Alex: Hi Mia! How about dinner and then a movie? Chris: Sounds good to me. Any suggestions for the dinner place? Taylor: There's that new Italian restaurant downtown. Heard it's great! Jordan: Oh, I’ve been wanting to try that place. What time should we meet? Mia: How about 7 PM? That gives us enough time to enjoy dinner before the movie. Alex: 7 PM works for me. What movie are we watching? Chris: IMG_01.jpg There’s that new action movie everyone’s talking about. What do you guys think? Here's the movie poster of it Taylor: Yes, I’m in! Been wanting to see that one. Jordan: Perfect, action movie it is. Should we book tickets in advance? Mia: Good idea. I can book them online. How many tickets do we need? Alex: Count me in. Chris: Me too. Taylor: Same here. Jordan: Yep, I’m in. Mia: Great, I’ll book 5 tickets for the 9 PM show. See you all at the Italian restaurant at 7 PM! Alex: Awesome, see you all tonight! Chris: Can’t wait! Taylor: Looking forward to it! Jordan: See you guys tonight!\",\n",
       "  'id': 1,\n",
       "  'golden_summary': 'In the group chat, Mia asks the group about plans for tonight. Alex suggests dinner and a movie, and Chris agrees. Taylor recommends a new Italian restaurant downtown, which everyone likes. They decide to meet at 7 PM. For the movie, they choose a new action film proposed by Chris, which is Tenet, and agree on booking tickets in advance. Mia volunteers to book the tickets and confirms five for the 9 PM show. The group expresses excitement and looks forward to the evening’s plans.'},\n",
       " {'text': \"Alex: Hey Jamie, I wanted to get your thoughts on the interview process for the new role. Can we discuss it? Jamie: Hi Alex! Sure, I’m happy to talk about it. What specifically do you want to go over? Alex: I’m curious about the stages of the interview process. Can you walk me through what to expect? Jamie: Of course. The process usually starts with a phone screening, where we discuss your background and assess if you're a good fit for the role. Alex: Got it. What happens after the phone screening? Jamie: If you pass the phone screening, the next step is typically an in-person or video interview with the hiring manager. This interview focuses on your skills, experience, and how you handle specific scenarios related to the job. Alex: Sounds straightforward. Are there any additional stages I should be aware of? Jamie: Yes, sometimes there’s a technical assessment or a case study, depending on the role. This could be a task or project to showcase your problem-solving skills and expertise. Alex: That makes sense. How do we evaluate candidates after the interviews? Jamie: We usually have a debrief meeting with the interview panel to discuss each candidate’s performance. We assess their skills, fit for the team, and overall potential. Alex: What if a candidate performs well but has a few gaps? How do we handle that? Jamie: If there are gaps, we consider whether they’re trainable or if they can be addressed with additional support. It’s important to weigh their potential and how well they align with our team culture. Alex: Got it. Are there any common mistakes candidates make that we should watch out for? Jamie: Yes, some candidates fail to research the company thoroughly or struggle with demonstrating their problem-solving process. It’s important for them to be prepared and articulate how their experience aligns with the role. Alex: Thanks for the insights, Jamie. This helps a lot. Is there anything else I should keep in mind? Jamie: Just ensure to be thorough in your evaluations and provide constructive feedback. It’s crucial for both the candidates and the company’s hiring decisions. Alex: Absolutely. I’ll keep that in mind. Thanks again for the detailed overview! Jamie: You’re welcome, Alex. Glad to help. Let me know if you have any more questions.\",\n",
       "  'id': 2,\n",
       "  'golden_summary': \"In the chat, Alex and Jamie discuss the interview process for a new role. Jamie explains that the process begins with a phone screening to assess fit, followed by an in-person or video interview with the hiring manager. There may also be a technical assessment or case study. After interviews, the panel debriefs to evaluate candidates' skills, fit, and potential. Jamie notes that gaps in candidates' skills are considered in terms of trainability and alignment with team culture. Common mistakes include inadequate company research and poor demonstration of problem-solving skills. Alex appreciates the insights and Jamie emphasizes the importance of thorough evaluations and constructive feedback.\"},\n",
       " {'text': \"Mia: Hey everyone, what did you think of today’s advanced algorithms lesson? Liam: Hi Mia! I thought it was pretty intense. We covered a lot of new material. Ava: Agreed. The part about dynamic programming was especially challenging. Noah: Yeah, I was struggling with the concept of memoization. Can anyone explain it again? Mia: Memoization is essentially caching the results of expensive function calls and reusing them when the same inputs occur again. Liam: Exactly. It helps avoid redundant calculations by storing previously computed results. Ava: And we use memoization in dynamic programming to optimize solutions to problems by breaking them down into simpler subproblems. Noah: Got it. So, it’s like storing intermediate results to speed up the algorithm? Liam: Yes, that’s right. It reduces the time complexity by avoiding repeated work. Mia: What did you all think of the longest common subsequence problem we discussed? Ava: That was interesting. It’s a classic example of a problem that can be solved efficiently with dynamic programming. Noah: The example in class helped, but I’m still a bit unclear on how to build the DP table. Liam: For the longest common subsequence, you create a table where the cell (i, j) represents the length of the LCS of the first i characters of one string and the first j characters of another. Ava: And you fill this table based on whether the characters match or not. If they do, you add 1 to the value from the diagonal cell. Mia: If they don’t match, you take the maximum value from the cell directly above or to the left. Noah: Oh, that makes sense. So the table builds up the solution incrementally. Liam: Exactly. It’s a bottom-up approach where you solve smaller subproblems first. Ava: Did anyone find the example of the knapsack problem easier to understand? Mia: The knapsack problem was a bit clearer for me. The idea of choosing items to maximize the value while staying within weight constraints was straightforward. Noah: Yeah, the knapsack problem also uses dynamic programming but focuses on optimizing a different kind of problem. Liam: For knapsack, you also build a table, but this time the cell (i, w) represents the maximum value achievable with the first i items and a weight limit of w. Ava: And for each item, you decide whether to include it or not based on its weight and value. Mia: I found it helpful to visualize the DP table for knapsack. It really shows how decisions are made at each step. Noah: Same here. It’s useful to see how the optimal solution is built up from smaller subproblems. Liam: Did anyone have trouble with the examples in the textbook? Some of the explanations were confusing. Ava: Yes, the textbook examples were a bit dense. I think the lecture examples were clearer. Mia: Agreed. Maybe we could work on some additional problems together to solidify our understanding. Noah: That sounds like a good idea. Maybe we can meet up this weekend for a study session? Liam: I’m in. Let’s plan for Saturday afternoon. What do you all think? Ava: Saturday works for me. Let’s pick a time and place. Mia: IMG_01.jpg How about 2 PM at the library? It’s usually quiet there. It's always almost empty as you can see in the pic! Noah: 2 PM at the library sounds perfect. Liam: Great, I’ll see you all there. Let’s bring our textbooks and notes. Ava: Sounds good. I’ll also bring some practice problems. Mia: Perfect! Looking forward to it. Thanks for coordinating, everyone. Noah: No problem. See you all on Saturday!\",\n",
       "  'id': 3,\n",
       "  'golden_summary': 'In the chat, the group discusses the advanced algorithms lesson from today. They review concepts like memoization and dynamic programming, and specifically discuss problems like the longest common subsequence and knapsack problem. They clarify how dynamic programming tables are used to build solutions incrementally and share strategies for solving these problems. They also agree that the lecture examples were clearer than those in the textbook. The group decides to meet for a study session on Saturday afternoon at the library, because most of the times is empty as show in the image, to work through additional problems and solidify their understanding.'},\n",
       " {'text': \"Sarah: Hey John, how did the exam go for you?  John: Hey Sarah, it was tough! Some questions were really tricky. How about you?  Sarah: Same here. I struggled with the last question about quantum mechanics.   John: Oh, that one was brutal! I wasn't sure about the second part of it at all.  Sarah: Me neither. I just hope I got enough right to pass. Did you manage to finish all the questions?  John: Barely! I skipped a couple and went back at the end. How about you?  Sarah: I finished, but I was rushing towards the end. Did you find the multiple-choice questions easier?  John: A bit, but there were a few that had very close answers. I second-guessed myself a lot.  Sarah: Same here. I'm really anxious about the results. When do we get them?  John: I think Professor Smith said we'd get them next week. Fingers crossed!  Sarah: Yeah, fingers crossed! Do you want to review some of the questions later?  John: Sure, that sounds good. Maybe we can figure out where we went wrong.  Sarah: Exactly. Let's meet at the library tomorrow afternoon?  John: Perfect, see you then at 3 PM.  Sarah: See you! We've got this. \",\n",
       "  'id': 4,\n",
       "  'golden_summary': 'Sarah and John discuss their recent university exam, both finding it tough and expressing concern over specific questions, especially one on quantum mechanics. They both struggled with the multiple-choice questions and are anxious about the results, which they expect next week. They decide to meet at the library the next afternoon to review their answers and understand where they might have gone wrong, hoping to improve their performance in future exams.'},\n",
       " {'text': \"Mike: Hey everyone, what did you think of the Italy-Switzerland game?  Sarah: It was intense! Italy played so well. Check out this picture of the winning goal! IMG_01.jpg  Alex: That goal was amazing! The whole stadium went crazy.  Emma: Absolutely! Here's a shot of the fans celebrating. IMG_02  Chris: The atmosphere was electric. Did you see the save by the Italian goalkeeper? Unreal!   Mike: Yeah, that was a game-changer. Switzerland had some good chances too, though.  Sarah: True, but Italy's defense was rock solid. Here's a clip of that incredible defensive play.   Alex: I think that was the turning point. After that, Italy dominated.  Emma: Totally. What about the referee's decisions? Do you think they were fair?  Chris: For the most part, yes. There was that one questionable call, though.  Mike: Which one? The offside decision?  Sarah: Yeah, that one. It looked really close.  Alex: Oh wow, seeing it like that, it was super close. But I think the ref got it right.  Emma: Agreed. Overall, a well-fought match. Italy deserved the win.  Chris: Definitely. What a night! We should watch the next game together too.  Mike: I'm in! Let's plan for it. Same place next week?  Sarah: Sounds good to me. Can't wait!   Alex: Count me in. Hopefully, it'll be just as exciting.  Emma: For sure. Until then, goodnight everyone!  Chris: Goodnight! See you all next week.\",\n",
       "  'id': 5,\n",
       "  'golden_summary': \"Mike asks the group about their thoughts on the Italy-Switzerland game. Sarah, Alex, and Chris share their excitement and post images of the Locatelli's winning goal and the of the italy's fans celebrating . They discuss the turning points of the game, including Italy's solid defense and a close offside call. They all agree that Italy deserved the win and decide to watch the next game together, planning to meet at the same place next week. The chat ends with everyone looking forward to the next match and saying goodnight.\\n\\n\\n\\n\\n\\n\"},\n",
       " {'text': \"Lisa: Hey guys, do you want to grab a beer tonight?  Mark: That sounds great! Where should we go?  James: (audio)  Lisa: Cool, I'm in! What time works for you both?  Mark: How about 8 PM?  James: 8 PM works for me. I'll meet you there.  Lisa: Perfect, see you guys at 8 then!  Mark: Looking forward to it. Should we invite anyone else?  James: I think it's just us tonight. More room to catch up!  Lisa: Agreed. See you soon!\",\n",
       "  'id': 6,\n",
       "  'golden_summary': 'Lisa suggests grabbing a beer that evening. Mark and James are keen on the idea. James recommends a good downtown spot and shares an audio file with no text, likely a quick review. Lisa agrees to the suggestion and they decide on meeting at 8 PM. Mark confirms and considers inviting others, but they opt to keep it among themselves for a more intimate catch-up. They plan to meet at 8 PM for their evening out.'},\n",
       " {'text': \"Mom: Hey everyone, what do you think about going out for dinner tonight?   Dad: IMG_01.webp Sounds good to me! How about that new Italian place downtown? Here's their menu.   Sister: IMG_02.jpg Yum, that looks delicious! I'm in for Italian. Can we have a table outside? Look how beautiful the location is!  Brother: Italian sounds great to me too. What time are we thinking?  Mom: How about 7 PM? Does that work for everyone?  Dad: Perfect. See you all there at 7!   Sister: Looking forward to it!   Brother: Can't wait! It's been a while since we've had a family dinner out.   Mom: Agreed. See you all soon! \",\n",
       "  'id': 7,\n",
       "  'golden_summary': \"Mom suggests going out for dinner that evening, and Dad proposes a new Italian restaurant downtown, sharing a picture of their menu. Sister likes the idea and shares a photo of the restaurant's outdoor seating, characterised by green vegetation and wood fornitures. Brother agrees to Italian food and asks about the timing. Mom suggests 7 PM, which everyone agrees on. They confirm the plan to meet at 7 PM and express anticipation for the family dinner out.\"},\n",
       " {'text': \"Alex: Hey there! I've been looking into building a new PC. Got any recommendations?   Emily: IMG_01.jpg Hi Alex! Definitely, I can help. Check out this motherboard I found. Here's a picture of it!  Alex: Wow, that looks solid! Do you think it'll support the latest CPUs?  Emily: Absolutely!  Alex: Nice, thanks! What about the graphics card? Any ideas?  Emily: I'm thinking about this one. It's got great performance for gaming and rendering.   Alex: Perfect choice! How about storage? SSD or HDD?  Emily: SSD all the way. Here's a comparison I made earlier.   Alex: Impressive speed! RAM next. Should we go for 16GB or push for 32GB?  Emily: I'd say 32GB for future-proofing. Here's a deal I found.    Alex: Great find! How about cooling? Liquid or air?  Emily: Liquid cooling for better performance. Here's a setup I'm considering. What do you think?  Alex: Looks efficient. Power supply? Got any recommendations?  Emily: This one should handle everything we've discussed.  Alex: Perfect. Case next. Something sleek and spacious?  Emily: Found this one with good airflow and cable management.  Alex: Nice choice! Now, peripherals. Any thoughts on monitor and keyboard?  Emily: Check out this monitor. High refresh rate for gaming.   Alex: Sweet! What about the keyboard? Mechanical or membrane?  Emily: IMG_02.jpg Mechanical all the way. Here's a favorite of mine.  Alex: Awesome setup! Do you think we missed anything?  Emily: Maybe some RGB lighting for aesthetics?   Alex: Good call! RGB all around.  Emily: Ready to order everything?  Alex: Let's do it! Excited to put this together.  Emily: Me too! It's gonna be an epic build.  Alex: Can't wait to fire it up for the first time!  Emily: It's gonna be amazing.  Alex: Thanks for all your help, Emily. This is gonna be the best rig yet.  Emily: Anytime, Alex! Happy building!  Alex: See you on the battlefield soon!\",\n",
       "  'id': 8,\n",
       "  'golden_summary': 'Alex and Emily discuss building a new PC. Alex seeks recommendations, and Emily suggests a motherboard with red details on it as shown in a picture. They debate CPU support and storage options (SSD preferred). RAM and cooling choices (liquid cooling) follow, with peripherals like monitor (high refresh rate) and mechanical keyboard favored, which is with white, black and orange key caps. They consider RGB lighting for aesthetics. Ultimately, they finalize their choices and express excitement about assembling the PC together.'},\n",
       " {'text': \"Alex: Did you guys watch the derby? What a game! Sam: Yes! Inter Milan was on fire  Jordan: Totally! They really showed Milan who's boss. Taylor: IMG_01.webp That first goal by Lautaro Martinez was amazing! What a celebration tho Casey: Absolutely, Lautaro was unstoppable tonight. Alex: And that assist from Barella, so smooth! Sam: I think Milan's defense just couldn't keep up. Jordan: Agreed. They looked so disorganized at the back. Chris: As a Milan fan, this was painful to watch  Jamie: Same here, Chris. Milan just didn't show up tonight. Taylor: What did you think of Inter's second goal? Perfect counter-attack. Chris: It was a great goal, but Milan's defense was nowhere to be seen. Casey: That was a textbook counter. Quick and precise. Alex: Inter really deserved the win. Milan had their chances but just couldn't convert. Sam: True, and Onana made some great saves for Inter. Jamie: We had our chances, but our finishing was terrible. Jordan: Man of the match for me was definitely Lautaro. His performance was top-notch. Chris: Lautaro was great, but Milan should have marked him better. Taylor: Yeah, he was brilliant. Do you think Inter can keep up this form for the rest of the season? Casey: If they play like this, definitely. They've got a strong squad. Jamie: Milan needs to regroup and fix their defense ASAP. Alex: Next few matches will be crucial. But for tonight, let's celebrate this win!  Sam: Cheers to that!  Jordan: IMG_02.jpg Forza Inter!  Casey: Amalaaaa!  Chris: Hopefully Milan will bounce back soon. Jamie: Yeah, let's hope so. Forza Milan! \",\n",
       "  'id': 9,\n",
       "  'golden_summary': \"In the group chat, five friends discussed the thrilling derby between Inter Milan and Milan, which ended with Inter Milan's victory. Alex kicked off the conversation, noting what an exciting game it was. Sam and Jordan praised Inter Milan's performance, while Taylor and Casey highlighted the exceptional plays by Lautaro Martinez and Nicolo Barella.\\nChris and Jamie, frustrated Milan fans, expressed their disappointment in Milan's performance, particularly criticizing their disorganized defense and poor finishing. Despite this, they acknowledged the skill and precision of Inter Milan's attacks, especially during the second goal.\\nThe discussion shifted to Inter's deserved win and the standout performance by Lautaro Martinez, considered the man of the match. Casey and Taylor expressed optimism about Inter's form for the rest of the season, while Jamie stressed the need for Milan to improve their defense.\\nThe chat ended with Alex calling for a celebration of Inter's win, supported by cheers from Sam, Jordan, and Casey. Chris and Jamie, though disheartened, hoped for Milan's swift recovery and better performances in future matches.\\n\"},\n",
       " {'text': \"Alex: Hey Emma, are you excited about our trip to Barcelona? Emma: Hey Alex! Super excited! Can't wait to explore the city. Have you thought about our itinerary yet? Alex: IMG_01.jpg I have a few ideas. How about starting with a visit to the Sagrada Familia? Look how beautiful it is inside Emma: Yes, that's a must-see! We should book tickets in advance though. Alex: Good point. I'll handle the bookings. What do you think about a day trip to Park Güell after that? Emma: That sounds perfect. We can have a picnic there too. Alex: Great idea! How about spending an evening strolling down La Rambla? Emma: Definitely! And we should check out the Boqueria Market for some local food. Alex: Absolutely. I'm also thinking we can visit the Gothic Quarter for some history and cool architecture. Emma: Yes! And maybe catch a flamenco show in the evening? Alex: That would be amazing. I've heard Tablao Cordobés is a great place for that. Emma: Perfect. Also, we shouldn't miss the beach. A relaxing day at Barceloneta would be nice. Alex: Agreed. We can rent bikes and ride along the beach. Emma: Sounds fun! We should also find some time for the Picasso Museum. Alex: Definitely. I'll add it to our list. Any other places you want to visit? Emma: Maybe Montjuïc Hill for the Magic Fountain show? Alex: Yes! That show is spectacular. I'll make sure we have that in our itinerary. Emma: Thanks, Alex. This is going to be an awesome trip! Alex: Can't wait! I'll finalize the bookings and send you the details soon. Emma: Sounds good. Talk to you later! Alex: Later!\",\n",
       "  'id': 10,\n",
       "  'golden_summary': 'In the chat, Alex and Emma excitedly discuss their upcoming trip to Barcelona. They plan to start their visit with the Sagrada Familia, especially the interior, and then enjoy a day at Park Güell, including a picnic. They agree on an evening stroll down La Rambla and a visit to the Boqueria Market for local food. Exploring the Gothic Quarter and catching a flamenco show at Tablao Cordobés are also on their list.\\nThey plan a relaxing day at Barceloneta Beach with bike rides, and they aim to visit the Picasso Museum. Emma suggests ending a day with the Magic Fountain show at Montjuïc Hill, which Alex adds to their itinerary. Alex takes charge of making bookings and promises to finalize the details, while both look forward to an amazing trip.'},\n",
       " {'text': \"Emily: Hey everyone, we need to schedule our next workgroup meeting. When are you all available? Ryan: Hi Emily, I'm available Tuesday and Thursday afternoons. Lisa: Tuesday works for me. How about you, Mark? Mark: Tuesday afternoon is fine. What time are we thinking? Emily: How does 2 PM sound for everyone? Ryan: 2 PM works for me. Lisa: Same here. 2 PM on Tuesday it is. Mark: Perfect. Do we have an agenda for the meeting? Emily: Yes, we need to discuss the project timeline, allocate tasks, and review the latest client feedback. Ryan: Sounds good. Should we prepare anything in advance? Emily: Yes, please review the client feedback document I sent last week and think about any tasks you can take on. Lisa: Got it. I'll review the document and come prepared with my thoughts. Mark: I'll do the same. Looking forward to it. Ryan: Me too. See you all on Tuesday at 2 PM. Emily: Great! See you then.\",\n",
       "  'id': 11,\n",
       "  'golden_summary': 'In the group chat, Emily initiates the scheduling of the next workgroup meeting. Ryan, Lisa, and Mark confirm their availability for Tuesday afternoon. They agree on a meeting time of 2 PM. Emily outlines the agenda, which includes discussing the project timeline, allocating tasks, and reviewing client feedback. She asks everyone to review the client feedback document beforehand. The team members acknowledge and agree to come prepared, looking forward to the meeting.'}]"
      ]
     },
     "execution_count": 6,
     "metadata": {},
     "output_type": "execute_result"
    }
   ],
   "source": [
    "path = \".\\exported_chat\"\n",
    "dataset = []\n",
    "for i, dir in enumerate(os.listdir(path)):\n",
    "    chat_file_path = os.path.join(path, dir, \"sample_whatsapp.txt\")\n",
    "    summary_file_path = os.path.join(path, dir, \"summary.txt\")\n",
    "    if os.path.exists(chat_file_path) and os.path.exists(summary_file_path):\n",
    "        dataset.append(create_dict(chat_file_path, i, summary_file_path))\n",
    "\n",
    "dataset\n"
   ]
  }
 ],
 "metadata": {
  "kernelspec": {
   "display_name": "Python 3",
   "language": "python",
   "name": "python3"
  },
  "language_info": {
   "codemirror_mode": {
    "name": "ipython",
    "version": 3
   },
   "file_extension": ".py",
   "mimetype": "text/x-python",
   "name": "python",
   "nbconvert_exporter": "python",
   "pygments_lexer": "ipython3",
   "version": "3.11.2"
  }
 },
 "nbformat": 4,
 "nbformat_minor": 2
}
