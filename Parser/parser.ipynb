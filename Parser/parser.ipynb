{
 "cells": [
  {
   "cell_type": "code",
   "execution_count": 35,
   "metadata": {},
   "outputs": [],
   "source": [
    "import re \n",
    "import json as js"
   ]
  },
  {
   "cell_type": "code",
   "execution_count": 18,
   "metadata": {},
   "outputs": [],
   "source": [
    "# 6/6/24, 9:17 PM - +39 370 703 0730: la gpu\n",
    "def get_datehour(line):\n",
    "    # return date and hour object\n",
    "    return line.split()[0][:-1].replace(\"/\", \"-\"), line.split()[1][:-1]\n"
   ]
  },
  {
   "cell_type": "code",
   "execution_count": 38,
   "metadata": {},
   "outputs": [],
   "source": [
    "def check_valid(line):\n",
    "    # Regex for check if the line follow the format: 6/6/24, 9:17 PM - +39 370 703 0730: la gpu\n",
    "    return re.match(r\"\\d+/\\d+/\\d+, \\d+:\\d+\\s[AP]M - \\+\\d+ \\d+ \\d+: .+\", line) is not None\n"
   ]
  },
  {
   "cell_type": "code",
   "execution_count": 23,
   "metadata": {},
   "outputs": [],
   "source": [
    "file_name = \"sample_whatsapp\"\n",
    "current_date = \"\"\n",
    "with open(file_name + \".txt\", \"r\", encoding=\"utf-8\") as file:\n",
    "    data = file.readlines()\n",
    "    for line in data:\n",
    "        # Check if the line is valid\n",
    "        if not check_valid(line):\n",
    "            continue\n",
    "        date, hour = get_datehour(line)\n",
    "        if current_date == \"\":\n",
    "            data = date\n",
    "        if current_date != date:\n",
    "            past_date = date\n",
    "        # Create or append to the file\n",
    "        with open(file_name + \"_\" + past_date + \".txt\", \"a\", encoding=\"utf-8\") as new_file:\n",
    "            new_file.write(line)\n",
    "# Output\n",
    "\n"
   ]
  },
  {
   "cell_type": "code",
   "execution_count": 39,
   "metadata": {},
   "outputs": [
    {
     "name": "stdout",
     "output_type": "stream",
     "text": [
      "[]\n"
     ]
    }
   ],
   "source": [
    "\n",
    "# Create json file\n",
    "\n",
    "with open(file_name + \"_\" + past_date + \".txt\", \"r\", encoding=\"utf-8\") as file:\n",
    "    data = file.readlines()\n",
    "    json = {}\n",
    "    json[\"dataset_name\"] = \"CustomDATA\"\n",
    "    json[\"dialogue_type\"] = \"Open-Domain\"\n",
    "    json[\"reference_summ\"] = \"\"\n",
    "    dialogue = []\n",
    "    speaker = []\n",
    "    for line in data:\n",
    "        json_sent = {}\n",
    "        #if not check_valid(line):\n",
    "        #    continue\n",
    "        author = line[17:].split(\":\")[0]\n",
    "        if author not in speaker:\n",
    "            speaker.append(author)\n",
    "        json_sent[\"speaker\"] = \"Speaker\" + str(speaker.index(author) + 1)\n",
    "        print(line)\n",
    "        json_sent[\"sentences\"] = [line.split(\":\")[1]]\n",
    "        json_sent[\"utterance\"] = line.split(\":\")[1]\n",
    "        json_sent[\"role\"] = author\n",
    "        dialogue.append(json_sent)\n",
    "    json[\"dialogue\"] = dialogue\n",
    "    print(dialogue)\n",
    "    with open(file_name + \"_\" + past_date + \".json\", \"w\", encoding=\"utf-8\") as new_file:\n",
    "        js.dump(json, new_file)"
   ]
  }
 ],
 "metadata": {
  "kernelspec": {
   "display_name": "Python 3",
   "language": "python",
   "name": "python3"
  },
  "language_info": {
   "codemirror_mode": {
    "name": "ipython",
    "version": 3
   },
   "file_extension": ".py",
   "mimetype": "text/x-python",
   "name": "python",
   "nbconvert_exporter": "python",
   "pygments_lexer": "ipython3",
   "version": "3.10.11"
  }
 },
 "nbformat": 4,
 "nbformat_minor": 2
}
