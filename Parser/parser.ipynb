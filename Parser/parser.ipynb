{
 "cells": [
  {
   "cell_type": "code",
   "execution_count": 5,
   "metadata": {},
   "outputs": [],
   "source": [
    "import re\n",
    "import json as js\n",
    "import os"
   ]
  },
  {
   "cell_type": "code",
   "execution_count": 6,
   "metadata": {},
   "outputs": [],
   "source": [
    "# 6/6/24, 9:17 PM - +39 370 703 0730: la gpu\n",
    "def get_datehour(line):\n",
    "    # return date and hour object\n",
    "    return line.split()[0][:-1].replace(\"/\", \"-\"), line.split()[1][:-1]\n"
   ]
  },
  {
   "cell_type": "code",
   "execution_count": 7,
   "metadata": {},
   "outputs": [],
   "source": [
    "def check_valid(line):\n",
    "    # Regex for check if the line follow the format: 6/6/24, 9:17 PM - +39 370 703 0730: la gpu\n",
    "    return re.match(r\"\\d+/\\d+/\\d+, \\d+:\\d+\\s[AP]M - \\+\\d+ \\d+ \\d+: .+\", line) is not None"
   ]
  },
  {
   "cell_type": "code",
   "execution_count": 13,
   "metadata": {},
   "outputs": [],
   "source": [
    "file_name = \"sample_whatsapp\"\n",
    "current_date = \"\"\n",
    "with open(\"./exported_chat/\" + file_name + \".txt\", \"r\", encoding=\"utf-8\") as file:\n",
    "    data = file.readlines()\n",
    "    for line in data:\n",
    "        # Check if the line is valid\n",
    "        if not check_valid(line):\n",
    "            continue\n",
    "        date, hour = get_datehour(line)\n",
    "        if current_date == \"\":\n",
    "            data = date\n",
    "        if current_date != date:\n",
    "            past_date = date\n",
    "        # Create or append to the file\n",
    "        with open(file_name + \"_\" + past_date + \".txt\", \"a\", encoding=\"utf-8\") as new_file:\n",
    "            new_file.write(line)\n",
    "# Output\n",
    "\n"
   ]
  },
  {
   "cell_type": "code",
   "execution_count": 14,
   "metadata": {},
   "outputs": [
    {
     "name": "stdout",
     "output_type": "stream",
     "text": [
      "6/6/24, 9:17 PM - +39 370 703 0730: la gpu\n",
      "\n",
      "6/6/24, 9:17 PM - Andrea Stecca: Perché consuma un casino, di conseguenza scalda un casino. Le prime 4090 tiravano così tanta corrente che facevano prendere fuoco ai cavi di alimentazione\n",
      "\n",
      "6/6/24, 9:17 PM - +39 370 703 0730: sono mobile, non desktop\n",
      "\n",
      "6/6/24, 9:18 PM - Andrea Stecca: Va be il numero è lo stesso lui non lo sa\n",
      "\n",
      "6/6/24, 9:18 PM - +39 388 486 3135: Progettare una 4090 che riesca a stare dentro un portatile non è facilissimo\n",
      "\n",
      "6/6/24, 9:18 PM - +39 370 703 0730: no no, dentro c'è la fai stare\n",
      "\n",
      "6/6/24, 9:18 PM - +39 370 703 0730: solo lei però\n",
      "\n",
      "6/6/24, 9:18 PM - +39 377 424 7529: di solito in un _portatile_ di solito interessa che il computer sia...portatile \n",
      "\n",
      "e che sia utilizzabile senza una presa di corrente di fianco\n",
      "\n"
     ]
    },
    {
     "ename": "IndexError",
     "evalue": "list index out of range",
     "output_type": "error",
     "traceback": [
      "\u001b[1;31m---------------------------------------------------------------------------\u001b[0m",
      "\u001b[1;31mIndexError\u001b[0m                                Traceback (most recent call last)",
      "Cell \u001b[1;32mIn[14], line 20\u001b[0m\n\u001b[0;32m     18\u001b[0m json_sent[\u001b[38;5;124m\"\u001b[39m\u001b[38;5;124mspeaker\u001b[39m\u001b[38;5;124m\"\u001b[39m] \u001b[38;5;241m=\u001b[39m \u001b[38;5;124m\"\u001b[39m\u001b[38;5;124mSpeaker\u001b[39m\u001b[38;5;124m\"\u001b[39m \u001b[38;5;241m+\u001b[39m \u001b[38;5;28mstr\u001b[39m(speaker\u001b[38;5;241m.\u001b[39mindex(author) \u001b[38;5;241m+\u001b[39m \u001b[38;5;241m1\u001b[39m)\n\u001b[0;32m     19\u001b[0m \u001b[38;5;28mprint\u001b[39m(line)\n\u001b[1;32m---> 20\u001b[0m json_sent[\u001b[38;5;124m\"\u001b[39m\u001b[38;5;124msentences\u001b[39m\u001b[38;5;124m\"\u001b[39m] \u001b[38;5;241m=\u001b[39m [\u001b[43mline\u001b[49m\u001b[38;5;241;43m.\u001b[39;49m\u001b[43msplit\u001b[49m\u001b[43m(\u001b[49m\u001b[38;5;124;43m\"\u001b[39;49m\u001b[38;5;124;43m:\u001b[39;49m\u001b[38;5;124;43m\"\u001b[39;49m\u001b[43m)\u001b[49m\u001b[43m[\u001b[49m\u001b[38;5;241;43m1\u001b[39;49m\u001b[43m]\u001b[49m]\n\u001b[0;32m     21\u001b[0m json_sent[\u001b[38;5;124m\"\u001b[39m\u001b[38;5;124mutterance\u001b[39m\u001b[38;5;124m\"\u001b[39m] \u001b[38;5;241m=\u001b[39m line\u001b[38;5;241m.\u001b[39msplit(\u001b[38;5;124m\"\u001b[39m\u001b[38;5;124m:\u001b[39m\u001b[38;5;124m\"\u001b[39m)[\u001b[38;5;241m1\u001b[39m]\n\u001b[0;32m     22\u001b[0m json_sent[\u001b[38;5;124m\"\u001b[39m\u001b[38;5;124mrole\u001b[39m\u001b[38;5;124m\"\u001b[39m] \u001b[38;5;241m=\u001b[39m author\n",
      "\u001b[1;31mIndexError\u001b[0m: list index out of range"
     ]
    }
   ],
   "source": [
    "\n",
    "# Create json file\n",
    "\n",
    "with open(file_name  + \".txt\", \"r\", encoding=\"utf-8\") as file:\n",
    "    data = file.readlines()\n",
    "    json = {}\n",
    "    json[\"dataset_name\"] = \"CustomDATA\"\n",
    "    json[\"dialogue_type\"] = \"Open-Domain\"\n",
    "    json[\"reference_summ\"] = \"\"\n",
    "    dialogue = []\n",
    "    speaker = []\n",
    "    for line in data:\n",
    "        json_sent = {}\n",
    "        #if not check_valid(line):\n",
    "        #    continue\n",
    "        author = line[17:].split(\":\")[0]\n",
    "        if author not in speaker:\n",
    "            speaker.append(author)\n",
    "        json_sent[\"speaker\"] = \"Speaker\" + str(speaker.index(author) + 1)\n",
    "        print(line)\n",
    "        json_sent[\"sentences\"] = [line.split(\":\")[1]]\n",
    "        json_sent[\"utterance\"] = line.split(\":\")[1]\n",
    "        json_sent[\"role\"] = author\n",
    "        dialogue.append(json_sent)\n",
    "    json[\"dialogue\"] = dialogue\n",
    "    print(dialogue)\n",
    "    with open(file_name + \"_\" + past_date + \".json\", \"w\", encoding=\"utf-8\") as new_file:\n",
    "        js.dump(json, new_file)"
   ]
  },
  {
   "cell_type": "code",
   "execution_count": 15,
   "metadata": {},
   "outputs": [
    {
     "name": "stdout",
     "output_type": "stream",
     "text": [
      "+39 370 703 0730: la gpu Andrea Stecca: Perché consuma un casino, di conseguenza scalda un casino. Le prime 4090 tiravano così tanta corrente che facevano prendere fuoco ai cavi di alimentazione +39 370 703 0730: sono mobile, non desktop Andrea Stecca: Va be il numero è lo stesso lui non lo sa +39 388 486 3135: Progettare una 4090 che riesca a stare dentro un portatile non è facilissimo +39 370 703 0730: no no, dentro c'è la fai stare +39 370 703 0730: solo lei però +39 377 424 7529: di solito in un _portatile_ di solito interessa che il computer sia...portatile  e che sia utilizzabile senza una presa di corrente di fianco +39 342 042 1344: Il numero di che ? +39 377 424 7529: letteralmente una gpu diversa con lo stesso nome +39 342 042 1344: So che è un’edizione a parte ovviamente Andrea Stecca: Di scarpe Augusto Zanellato: Files weren’t supposed to be saved +39 342 042 1344: Infatti non ha neanche senso accostarle Andrea Stecca: Real Andrea Stecca: Va be il discorso che ha un tdp altissimo rimane Augusto Zanellato: ^ Augusto Zanellato: Banalmente 150w di gpu e altri 50w (*minimo*) di cpu vuol dire che ti danno un alimentatore da 250w che a fatica ti carica il pc se lo tiri Augusto Zanellato: Quindi oltre ad avere un pc difficile da portare in giro hai anche un alimentatore enorme Augusto Zanellato: Perché fidati che senza alimentatore non lo usi in giro kek Andrea Stecca: Realisticamente parlando non userà mai neanche il 10% della gpu Augusto Zanellato: Perché sennò il portatile diventa una supernova? +39 370 703 0730: se ha parlato di grossi render...... Andrea Stecca: La scimmia di default di blender +39 370 703 0730: non c'è più la BMW tipo? Augusto Zanellato: Palle pelose ma con rtx on🙏 +39 370 703 0730: furmark 😂 Augusto Zanellato: E pure hairworks per renderizzare peli più naturali Augusto Zanellato: Furrymark? +39 370 703 0730: da non confondere con furrymark Augusto Zanellato: Too late +39 370 703 0730: stessa idea Augusto Zanellato: 3fast5you Andrea Stecca: La mascotte è da sempre la scimmia +39 370 703 0730: è il ping +39 370 703 0730: non ho la fibra 👉🏻👈🏻 +39 370 703 0730: per quello comprimo Augusto Zanellato: Manco io +39 345 733 6876 joined using this group's invite link +39 370 703 0730: I grossi render: \n"
     ]
    }
   ],
   "source": [
    "# \\d{1,2}/\\d{1,2}/\\d{2}, \\d{1,2}:\\d{2} (?:AM|PM) - \n",
    "def clean_chat(file_name):\n",
    "    text=\"\"\n",
    "    regex = r\"\\d{1,2}\\/\\d{1,2}\\/\\d{2}, \\d{1,2}:\\d{2}.(?:AM|PM) - \"\n",
    "    with open(file_name, 'r', encoding=\"utf-8\") as file:\n",
    "        for line in file:\n",
    "            if re.match(regex, line):\n",
    "                line = re.sub(regex, \"\", line)\n",
    "            line = re.sub(r\"\\n\", \" \", line)\n",
    "            text += line\n",
    "    return text\n",
    "        \n",
    "print(clean_chat(\"./exported_chat/sample_whatsapp.txt\"))         "
   ]
  },
  {
   "cell_type": "code",
   "execution_count": 20,
   "metadata": {},
   "outputs": [],
   "source": [
    "'''\n",
    "create a dictionary with the following structure: id, text, golden_summary\n",
    "'''\n",
    "def insert_dict(whatsapp_file, id, golden_summary):\n",
    "    chat = { \n",
    "        \"text\": clean_chat(whatsapp_file),\n",
    "        \"id\": id,\n",
    "        \"golden_summary\": golden_summary\n",
    "    }\n",
    "    return chat"
   ]
  },
  {
   "cell_type": "code",
   "execution_count": 21,
   "metadata": {},
   "outputs": [],
   "source": [
    "golden_summaries = [\"zaccagnniiii, era minuto finau, era ultima chansi, era ultima opportunitagi. Calarfiori courajoso.\"]"
   ]
  },
  {
   "cell_type": "code",
   "execution_count": 29,
   "metadata": {},
   "outputs": [
    {
     "data": {
      "text/plain": [
       "[{'text': \"+39 370 703 0730: la gpu Andrea Stecca: Perché consuma un casino, di conseguenza scalda un casino. Le prime 4090 tiravano così tanta corrente che facevano prendere fuoco ai cavi di alimentazione +39 370 703 0730: sono mobile, non desktop Andrea Stecca: Va be il numero è lo stesso lui non lo sa +39 388 486 3135: Progettare una 4090 che riesca a stare dentro un portatile non è facilissimo +39 370 703 0730: no no, dentro c'è la fai stare +39 370 703 0730: solo lei però +39 377 424 7529: di solito in un _portatile_ di solito interessa che il computer sia...portatile  e che sia utilizzabile senza una presa di corrente di fianco +39 342 042 1344: Il numero di che ? +39 377 424 7529: letteralmente una gpu diversa con lo stesso nome +39 342 042 1344: So che è un’edizione a parte ovviamente Andrea Stecca: Di scarpe Augusto Zanellato: Files weren’t supposed to be saved +39 342 042 1344: Infatti non ha neanche senso accostarle Andrea Stecca: Real Andrea Stecca: Va be il discorso che ha un tdp altissimo rimane Augusto Zanellato: ^ Augusto Zanellato: Banalmente 150w di gpu e altri 50w (*minimo*) di cpu vuol dire che ti danno un alimentatore da 250w che a fatica ti carica il pc se lo tiri Augusto Zanellato: Quindi oltre ad avere un pc difficile da portare in giro hai anche un alimentatore enorme Augusto Zanellato: Perché fidati che senza alimentatore non lo usi in giro kek Andrea Stecca: Realisticamente parlando non userà mai neanche il 10% della gpu Augusto Zanellato: Perché sennò il portatile diventa una supernova? +39 370 703 0730: se ha parlato di grossi render...... Andrea Stecca: La scimmia di default di blender +39 370 703 0730: non c'è più la BMW tipo? Augusto Zanellato: Palle pelose ma con rtx on🙏 +39 370 703 0730: furmark 😂 Augusto Zanellato: E pure hairworks per renderizzare peli più naturali Augusto Zanellato: Furrymark? +39 370 703 0730: da non confondere con furrymark Augusto Zanellato: Too late +39 370 703 0730: stessa idea Augusto Zanellato: 3fast5you Andrea Stecca: La mascotte è da sempre la scimmia +39 370 703 0730: è il ping +39 370 703 0730: non ho la fibra 👉🏻👈🏻 +39 370 703 0730: per quello comprimo Augusto Zanellato: Manco io +39 345 733 6876 joined using this group's invite link +39 370 703 0730: I grossi render: \",\n",
       "  'id': 0,\n",
       "  'golden_summary': 'zaccagnniiii, era minuto finau, era ultima chansi, era ultima opportunitagi. Calarfiori courajoso.'}]"
      ]
     },
     "execution_count": 29,
     "metadata": {},
     "output_type": "execute_result"
    }
   ],
   "source": [
    "folder_exp = \"\"\n",
    "dataset = []\n",
    "for i in range(0, len(golden_summaries)):\n",
    "    dataset.append(insert_dict(\"./exported_chat/sample_whatsapp\" + str(i+1) + \".txt\", i, golden_summaries[i]))\n",
    "\n",
    "dataset\n"
   ]
  }
 ],
 "metadata": {
  "kernelspec": {
   "display_name": "Python 3",
   "language": "python",
   "name": "python3"
  },
  "language_info": {
   "codemirror_mode": {
    "name": "ipython",
    "version": 3
   },
   "file_extension": ".py",
   "mimetype": "text/x-python",
   "name": "python",
   "nbconvert_exporter": "python",
   "pygments_lexer": "ipython3",
   "version": "3.11.2"
  }
 },
 "nbformat": 4,
 "nbformat_minor": 2
}
